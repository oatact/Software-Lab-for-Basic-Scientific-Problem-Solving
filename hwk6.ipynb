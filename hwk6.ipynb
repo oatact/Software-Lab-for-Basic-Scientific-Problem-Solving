{
 "cells": [
  {
   "cell_type": "code",
   "execution_count": 1,
   "metadata": {},
   "outputs": [],
   "source": [
    "import numpy as np\n",
    "import math"
   ]
  },
  {
   "cell_type": "code",
   "execution_count": 47,
   "metadata": {},
   "outputs": [],
   "source": [
    "M = np.matrix([\n",
    "    [2,1,1,10],\n",
    "    [3,2,3,18],\n",
    "    [1,4,9,16]\n",
    "])"
   ]
  },
  {
   "cell_type": "code",
   "execution_count": 48,
   "metadata": {},
   "outputs": [
    {
     "name": "stdout",
     "output_type": "stream",
     "text": [
      "[[ 3  1  0 12]]\n"
     ]
    }
   ],
   "source": [
    "eq4 = 3*M[0,:] - M[1,:]\n",
    "print(eq4)"
   ]
  },
  {
   "cell_type": "code",
   "execution_count": 49,
   "metadata": {},
   "outputs": [
    {
     "name": "stdout",
     "output_type": "stream",
     "text": [
      "[[ 2  1  1 10]\n",
      " [ 3  2  3 18]\n",
      " [ 1  4  9 16]\n",
      " [ 3  1  0 12]]\n"
     ]
    }
   ],
   "source": [
    "M = np.append(M,eq4,axis=0)\n",
    "print(M)"
   ]
  },
  {
   "cell_type": "code",
   "execution_count": 50,
   "metadata": {},
   "outputs": [
    {
     "name": "stdout",
     "output_type": "stream",
     "text": [
      "[[17  5  0 74]]\n"
     ]
    }
   ],
   "source": [
    "eq5 = 9*M[0,:] - M[2,:]\n",
    "print(eq5)"
   ]
  },
  {
   "cell_type": "code",
   "execution_count": 51,
   "metadata": {},
   "outputs": [
    {
     "name": "stdout",
     "output_type": "stream",
     "text": [
      "[[ 2  1  1 10]\n",
      " [ 3  2  3 18]\n",
      " [ 1  4  9 16]\n",
      " [ 3  1  0 12]\n",
      " [17  5  0 74]]\n"
     ]
    }
   ],
   "source": [
    "M = np.append(M,eq5,axis=0)\n",
    "print(M)"
   ]
  },
  {
   "cell_type": "code",
   "execution_count": 52,
   "metadata": {},
   "outputs": [
    {
     "name": "stdout",
     "output_type": "stream",
     "text": [
      "[[1. 0. 0. 7.]]\n"
     ]
    }
   ],
   "source": [
    "eq6 = M[4:,] - 5*M[3,:]\n",
    "eq6 = eq6/2\n",
    "print(eq6)"
   ]
  },
  {
   "cell_type": "code",
   "execution_count": 53,
   "metadata": {},
   "outputs": [
    {
     "name": "stdout",
     "output_type": "stream",
     "text": [
      "[[ 2.  1.  1. 10.]\n",
      " [ 3.  2.  3. 18.]\n",
      " [ 1.  4.  9. 16.]\n",
      " [ 3.  1.  0. 12.]\n",
      " [17.  5.  0. 74.]\n",
      " [ 1.  0.  0.  7.]]\n"
     ]
    }
   ],
   "source": [
    "M = np.append(M,eq6,axis=0)\n",
    "print(M)"
   ]
  },
  {
   "cell_type": "code",
   "execution_count": 54,
   "metadata": {},
   "outputs": [
    {
     "name": "stdout",
     "output_type": "stream",
     "text": [
      "[[2. 1. 0. 5.]]\n"
     ]
    }
   ],
   "source": [
    "eq7 = eq4 -eq6\n",
    "print(eq7)"
   ]
  },
  {
   "cell_type": "code",
   "execution_count": 55,
   "metadata": {},
   "outputs": [
    {
     "name": "stdout",
     "output_type": "stream",
     "text": [
      "[[ 0.  1.  0. -9.]]\n"
     ]
    }
   ],
   "source": [
    "eq7 = M[3,:] - 3*M[5,:]\n",
    "print(eq7)"
   ]
  },
  {
   "cell_type": "code",
   "execution_count": 56,
   "metadata": {},
   "outputs": [
    {
     "name": "stdout",
     "output_type": "stream",
     "text": [
      "[[ 2.  1.  1. 10.]\n",
      " [ 3.  2.  3. 18.]\n",
      " [ 1.  4.  9. 16.]\n",
      " [ 3.  1.  0. 12.]\n",
      " [17.  5.  0. 74.]\n",
      " [ 1.  0.  0.  7.]\n",
      " [ 0.  1.  0. -9.]]\n"
     ]
    }
   ],
   "source": [
    "M = np.append(M,eq7,axis=0)\n",
    "print(M)"
   ]
  },
  {
   "cell_type": "code",
   "execution_count": 57,
   "metadata": {},
   "outputs": [
    {
     "name": "stdout",
     "output_type": "stream",
     "text": [
      "[[0. 0. 1. 5.]]\n"
     ]
    }
   ],
   "source": [
    "eq8 = M[0,:] - 2*M[5,:] - M[6,:]\n",
    "print(eq8)"
   ]
  },
  {
   "cell_type": "code",
   "execution_count": 58,
   "metadata": {},
   "outputs": [
    {
     "name": "stdout",
     "output_type": "stream",
     "text": [
      "[[ 2.  1.  1. 10.]\n",
      " [ 3.  2.  3. 18.]\n",
      " [ 1.  4.  9. 16.]\n",
      " [ 3.  1.  0. 12.]\n",
      " [17.  5.  0. 74.]\n",
      " [ 1.  0.  0.  7.]\n",
      " [ 0.  1.  0. -9.]\n",
      " [ 0.  0.  1.  5.]]\n"
     ]
    }
   ],
   "source": [
    "M = np.append(M,eq8,axis=0)\n",
    "print(M)"
   ]
  },
  {
   "cell_type": "markdown",
   "metadata": {},
   "source": [
    "## Task2"
   ]
  },
  {
   "cell_type": "code",
   "execution_count": 26,
   "metadata": {},
   "outputs": [],
   "source": [
    "A = np.matrix([\n",
    "    [2.0,1.0,1.0],\n",
    "    [3.0,2.0,3.0],\n",
    "    [1.0,4.0,9.0]\n",
    "])\n",
    "\n",
    "b = np.matrix([\n",
    "    [10.0],\n",
    "    [18.0],\n",
    "    [16.0]\n",
    "])"
   ]
  },
  {
   "cell_type": "code",
   "execution_count": 27,
   "metadata": {},
   "outputs": [],
   "source": [
    "# x = inverse(a)*b\n",
    "\n",
    "inverseA = np.linalg.inv(A)"
   ]
  },
  {
   "cell_type": "code",
   "execution_count": 28,
   "metadata": {},
   "outputs": [],
   "source": [
    "x = np.dot(inverseA,b)"
   ]
  },
  {
   "cell_type": "code",
   "execution_count": 29,
   "metadata": {},
   "outputs": [
    {
     "data": {
      "text/plain": [
       "matrix([[ 7.],\n",
       "        [-9.],\n",
       "        [ 5.]])"
      ]
     },
     "execution_count": 29,
     "metadata": {},
     "output_type": "execute_result"
    }
   ],
   "source": [
    "x"
   ]
  },
  {
   "cell_type": "markdown",
   "metadata": {},
   "source": [
    "## Task3 "
   ]
  },
  {
   "cell_type": "code",
   "execution_count": 30,
   "metadata": {},
   "outputs": [],
   "source": [
    "a = np.matrix([\n",
    "    [2.0 , -5.0],\n",
    "    [3.0 , 1.0]\n",
    "])\n",
    "b = np.matrix([\n",
    "    [15.0],\n",
    "    [31.0]\n",
    "])\n",
    "c = np.matrix([\n",
    "    [2.0,1.0,1.0],\n",
    "    [3.0,2.0,3.0],\n",
    "    [1.0,4.0,9.0]\n",
    "])\n",
    "\n",
    "d = np.matrix([\n",
    "    [10.0],\n",
    "    [18.0],\n",
    "    [16.0]\n",
    "])\n",
    "    \n",
    "m = np.matrix([\n",
    "    [1.0, 2.0 , 1.0 , 4.0],\n",
    "    [2.0 , 0 , 4.0 , 3.0],\n",
    "    [4.0 , 2.0 , 2.0 , 1.0],\n",
    "    [-3.0 , 1.0 , 3.0 , 2.0]\n",
    "])\n",
    "l = np.matrix([[13.0],[28.0],[20.0],[6.0]])"
   ]
  },
  {
   "cell_type": "code",
   "execution_count": 31,
   "metadata": {},
   "outputs": [],
   "source": [
    "ab = np.append(a,b,axis=1)\n",
    "cd = np.append(c,d,axis=1)\n",
    "ml = np.append(m,l,axis=1)"
   ]
  },
  {
   "cell_type": "code",
   "execution_count": 32,
   "metadata": {},
   "outputs": [],
   "source": [
    "def fwd_elim(Ab):\n",
    "    Abx = Ab.copy()\n",
    "    [nr,nc] = Abx.shape\n",
    "    \n",
    "    for i in range(1,nr):\n",
    "        \n",
    "        for r in range(i,nr):\n",
    "            print('Iteration #{}  index = {}'.format(i,r))\n",
    "            row_factor = Abx[r,i-1]/Abx[i-1,i-1]\n",
    "            Abx[r,:] = Abx[r,:] - Abx[i-1,:]*row_factor\n",
    "        #end for r\n",
    "    #end for i\n",
    "    print(Abx)\n",
    "    return Abx\n",
    "#end fuction"
   ]
  },
  {
   "cell_type": "code",
   "execution_count": 33,
   "metadata": {},
   "outputs": [],
   "source": [
    "def back_sub(Ab):\n",
    "    Abx = Ab.copy()\n",
    "    [nr,nc] = Abx.shape\n",
    "    \n",
    "    x = np.empty(nr)\n",
    "    for r in range(nr-1,-1,-1):\n",
    "        print('r = {}'.format(r))\n",
    "        sum_of_product = 0\n",
    "        for i in range(r+1,nr):\n",
    "            print('i = {}'.format(i))\n",
    "            product = Abx[r,i]*x[i]\n",
    "            sum_of_product = sum_of_product + product\n",
    "        #end for\n",
    "        x[r] = (Abx[r,nc-1] - sum_of_product)/Abx[r,r]\n",
    "    \n",
    "    #end for\n",
    "    print(x)\n",
    "    return x\n",
    "#end fuction\n",
    "    "
   ]
  },
  {
   "cell_type": "code",
   "execution_count": 34,
   "metadata": {},
   "outputs": [
    {
     "name": "stdout",
     "output_type": "stream",
     "text": [
      "Iteration #1  index = 1\n",
      "[[ 2.  -5.  15. ]\n",
      " [ 0.   8.5  8.5]]\n",
      "[[ 2.  -5.  15. ]\n",
      " [ 0.   8.5  8.5]]\n"
     ]
    }
   ],
   "source": [
    "ab_re = fwd_elim(ab)\n",
    "print(ab_re)"
   ]
  },
  {
   "cell_type": "code",
   "execution_count": 35,
   "metadata": {},
   "outputs": [
    {
     "name": "stdout",
     "output_type": "stream",
     "text": [
      "r = 1\n",
      "r = 0\n",
      "i = 1\n",
      "[10.  1.]\n"
     ]
    },
    {
     "data": {
      "text/plain": [
       "array([10.,  1.])"
      ]
     },
     "execution_count": 35,
     "metadata": {},
     "output_type": "execute_result"
    }
   ],
   "source": [
    "back_sub(ab_re)"
   ]
  },
  {
   "cell_type": "code",
   "execution_count": 36,
   "metadata": {},
   "outputs": [
    {
     "name": "stdout",
     "output_type": "stream",
     "text": [
      "Iteration #1  index = 1\n",
      "Iteration #1  index = 2\n",
      "Iteration #2  index = 2\n",
      "[[  2.    1.    1.   10. ]\n",
      " [  0.    0.5   1.5   3. ]\n",
      " [  0.    0.   -2.  -10. ]]\n",
      "[[  2.    1.    1.   10. ]\n",
      " [  0.    0.5   1.5   3. ]\n",
      " [  0.    0.   -2.  -10. ]]\n"
     ]
    }
   ],
   "source": [
    "cd_re = fwd_elim(cd)\n",
    "print(cd_re)"
   ]
  },
  {
   "cell_type": "code",
   "execution_count": 37,
   "metadata": {},
   "outputs": [
    {
     "name": "stdout",
     "output_type": "stream",
     "text": [
      "r = 2\n",
      "r = 1\n",
      "i = 2\n",
      "r = 0\n",
      "i = 1\n",
      "i = 2\n",
      "[ 7. -9.  5.]\n"
     ]
    },
    {
     "data": {
      "text/plain": [
       "array([ 7., -9.,  5.])"
      ]
     },
     "execution_count": 37,
     "metadata": {},
     "output_type": "execute_result"
    }
   ],
   "source": [
    "back_sub(cd_re)"
   ]
  },
  {
   "cell_type": "code",
   "execution_count": 38,
   "metadata": {},
   "outputs": [
    {
     "name": "stdout",
     "output_type": "stream",
     "text": [
      "Iteration #1  index = 1\n",
      "Iteration #1  index = 2\n",
      "Iteration #1  index = 3\n",
      "Iteration #2  index = 2\n",
      "Iteration #2  index = 3\n",
      "Iteration #3  index = 3\n",
      "[[  1.    2.    1.    4.   13. ]\n",
      " [  0.   -4.    2.   -5.    2. ]\n",
      " [  0.    0.   -5.   -7.5 -35. ]\n",
      " [  0.    0.    0.   -9.  -18. ]]\n",
      "[[  1.    2.    1.    4.   13. ]\n",
      " [  0.   -4.    2.   -5.    2. ]\n",
      " [  0.    0.   -5.   -7.5 -35. ]\n",
      " [  0.    0.    0.   -9.  -18. ]]\n"
     ]
    }
   ],
   "source": [
    "ml_re = fwd_elim(ml)\n",
    "print(ml_re)"
   ]
  },
  {
   "cell_type": "code",
   "execution_count": 39,
   "metadata": {},
   "outputs": [
    {
     "name": "stdout",
     "output_type": "stream",
     "text": [
      "r = 3\n",
      "r = 2\n",
      "i = 3\n",
      "r = 1\n",
      "i = 2\n",
      "i = 3\n",
      "r = 0\n",
      "i = 1\n",
      "i = 2\n",
      "i = 3\n",
      "[ 3. -1.  4.  2.]\n"
     ]
    },
    {
     "data": {
      "text/plain": [
       "array([ 3., -1.,  4.,  2.])"
      ]
     },
     "execution_count": 39,
     "metadata": {},
     "output_type": "execute_result"
    }
   ],
   "source": [
    "back_sub(ml_re)"
   ]
  },
  {
   "cell_type": "markdown",
   "metadata": {},
   "source": [
    "## Task4"
   ]
  },
  {
   "cell_type": "code",
   "execution_count": 40,
   "metadata": {},
   "outputs": [],
   "source": [
    "a = np.matrix([\n",
    "    [2.0 , -5.0],\n",
    "    [3.0 , 1.0]\n",
    "])\n",
    "b = np.matrix([\n",
    "    [15.0],\n",
    "    [31.0]\n",
    "])\n",
    "c = np.matrix([\n",
    "    [2.0,1.0,1.0],\n",
    "    [3.0,2.0,3.0],\n",
    "    [1.0,4.0,9.0]\n",
    "])\n",
    "\n",
    "d = np.matrix([\n",
    "    [10.0],\n",
    "    [18.0],\n",
    "    [16.0]\n",
    "])\n",
    "    \n",
    "m = np.matrix([\n",
    "    [1.0, 2.0 , 1.0 , 4.0],\n",
    "    [2.0 , 0 , 4.0 , 3.0],\n",
    "    [4.0 , 2.0 , 2.0 , 1.0],\n",
    "    [-3.0 , 1.0 , 3.0 , 2.0]\n",
    "])\n",
    "l = np.matrix([\n",
    "    [13.0],\n",
    "    [28.0],\n",
    "    [20.0],\n",
    "    [6.0]\n",
    "])"
   ]
  },
  {
   "cell_type": "code",
   "execution_count": 41,
   "metadata": {},
   "outputs": [],
   "source": [
    "def Cramerrule(A,B):\n",
    "    size = A.shape\n",
    "    ans = np.empty(size[0])\n",
    "    for i in range(size[0]):\n",
    "        ax = A.copy()\n",
    "        ax[:,i] = B\n",
    "        ans[i] = np.linalg.det(ax)/np.linalg.det(A)\n",
    "    print(ans)"
   ]
  },
  {
   "cell_type": "code",
   "execution_count": 42,
   "metadata": {
    "scrolled": true
   },
   "outputs": [
    {
     "name": "stdout",
     "output_type": "stream",
     "text": [
      "[10.  1.]\n"
     ]
    }
   ],
   "source": [
    "Cramerrule(a,b)"
   ]
  },
  {
   "cell_type": "code",
   "execution_count": 43,
   "metadata": {},
   "outputs": [
    {
     "name": "stdout",
     "output_type": "stream",
     "text": [
      "[ 7. -9.  5.]\n"
     ]
    }
   ],
   "source": [
    "Cramerrule(c,d)"
   ]
  },
  {
   "cell_type": "code",
   "execution_count": 44,
   "metadata": {},
   "outputs": [
    {
     "name": "stdout",
     "output_type": "stream",
     "text": [
      "[ 3. -1.  4.  2.]\n"
     ]
    }
   ],
   "source": [
    "Cramerrule(m,l)"
   ]
  },
  {
   "cell_type": "markdown",
   "metadata": {},
   "source": [
    "## Task5"
   ]
  },
  {
   "cell_type": "code",
   "execution_count": 70,
   "metadata": {},
   "outputs": [],
   "source": [
    "A = np.array([\n",
    "    [0,2,5],\n",
    "    [2,1,1],\n",
    "    [3,1,0]\n",
    "])\n",
    "A = A*1.0\n",
    "b = np.array([\n",
    "    [1],\n",
    "    [1],\n",
    "    [2]\n",
    "])\n",
    "b = b*1.0"
   ]
  },
  {
   "cell_type": "code",
   "execution_count": 71,
   "metadata": {},
   "outputs": [
    {
     "name": "stdout",
     "output_type": "stream",
     "text": [
      "[[0. 2. 5. 1.]\n",
      " [2. 1. 1. 1.]\n",
      " [3. 1. 0. 2.]]\n"
     ]
    }
   ],
   "source": [
    "Ab = np.append(A,b , axis = 1)\n",
    "print(Ab)"
   ]
  },
  {
   "cell_type": "code",
   "execution_count": 72,
   "metadata": {},
   "outputs": [
    {
     "data": {
      "text/plain": [
       "array([[0., 2., 5., 1.],\n",
       "       [2., 1., 1., 1.],\n",
       "       [3., 1., 0., 2.]])"
      ]
     },
     "execution_count": 72,
     "metadata": {},
     "output_type": "execute_result"
    }
   ],
   "source": [
    "Ab"
   ]
  },
  {
   "cell_type": "code",
   "execution_count": 73,
   "metadata": {},
   "outputs": [
    {
     "name": "stdout",
     "output_type": "stream",
     "text": [
      "[[3. 1. 0. 2.]\n",
      " [2. 1. 1. 1.]\n",
      " [0. 2. 5. 1.]]\n"
     ]
    }
   ],
   "source": [
    "## swap row 3 and row 1\n",
    "temp = Ab[0,:].copy()\n",
    "Ab[0,:] = Ab[2,:].copy()\n",
    "Ab[2,:] = temp\n",
    "print(Ab)"
   ]
  },
  {
   "cell_type": "code",
   "execution_count": 74,
   "metadata": {},
   "outputs": [
    {
     "name": "stdout",
     "output_type": "stream",
     "text": [
      "Iteration #1  index = 1\n",
      "Iteration #1  index = 2\n",
      "Iteration #2  index = 2\n",
      "[[ 3.          1.          0.          2.        ]\n",
      " [ 0.          0.33333333  1.         -0.33333333]\n",
      " [ 0.          0.         -1.          3.        ]]\n",
      "[[ 3.          1.          0.          2.        ]\n",
      " [ 0.          0.33333333  1.         -0.33333333]\n",
      " [ 0.          0.         -1.          3.        ]]\n"
     ]
    }
   ],
   "source": [
    "Ab_re = fwd_elim(Ab)\n",
    "print(Ab_re)"
   ]
  },
  {
   "cell_type": "code",
   "execution_count": 75,
   "metadata": {},
   "outputs": [
    {
     "name": "stdout",
     "output_type": "stream",
     "text": [
      "r = 2\n",
      "r = 1\n",
      "i = 2\n",
      "r = 0\n",
      "i = 1\n",
      "i = 2\n",
      "[-2.  8. -3.]\n",
      "[-2.  8. -3.]\n"
     ]
    }
   ],
   "source": [
    "x = back_sub(Ab_re)\n",
    "print(x)"
   ]
  }
 ],
 "metadata": {
  "kernelspec": {
   "display_name": "Python 3",
   "language": "python",
   "name": "python3"
  },
  "language_info": {
   "codemirror_mode": {
    "name": "ipython",
    "version": 3
   },
   "file_extension": ".py",
   "mimetype": "text/x-python",
   "name": "python",
   "nbconvert_exporter": "python",
   "pygments_lexer": "ipython3",
   "version": "3.8.3"
  }
 },
 "nbformat": 4,
 "nbformat_minor": 4
}
