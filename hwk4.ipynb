{
 "cells": [
  {
   "cell_type": "markdown",
   "metadata": {},
   "source": [
    "# TASK1"
   ]
  },
  {
   "cell_type": "code",
   "execution_count": 1,
   "metadata": {},
   "outputs": [],
   "source": [
    "import numpy as np\n",
    "import math\n"
   ]
  },
  {
   "cell_type": "code",
   "execution_count": 2,
   "metadata": {},
   "outputs": [],
   "source": [
    "def f(x):\n",
    "    return (x**3)-(4*(x**2))-(4*x)+16\n",
    "#end function"
   ]
  },
  {
   "cell_type": "code",
   "execution_count": 3,
   "metadata": {},
   "outputs": [],
   "source": [
    "def newton(f,df,x0,p):\n",
    "    #stopping creiterion\n",
    "    es = 0.5*(10**(2-p))\n",
    "    ea =100\n",
    "    x= x0\n",
    "    prev_x = x\n",
    "    \n",
    "    i = 1\n",
    "    while(ea > es):\n",
    "        x = x-(f(x)/df(x))\n",
    "        ea = abs((x-prev_x)/x) *100\n",
    "        print('Iteration #{}: x = {} , ea = {} '.format(i,x,ea))\n",
    "        prev_x = x\n",
    "        i += 1\n",
    "    #end while"
   ]
  },
  {
   "cell_type": "code",
   "execution_count": 4,
   "metadata": {},
   "outputs": [],
   "source": [
    "def df(x):\n",
    "    #since f(x) = x^3 - 4x^2 - 4x+16\n",
    "    # so df(x) = 3x^2 - 12x+4 # cal\n",
    "    return 3*(x**2) - (8*x) + 4"
   ]
  },
  {
   "cell_type": "code",
   "execution_count": 5,
   "metadata": {},
   "outputs": [
    {
     "name": "stdout",
     "output_type": "stream",
     "text": [
      "x0 = -1.5\n",
      "Iteration #1: x = -1.9230769230769231 , ea = 22.000000000000004 \n",
      "Iteration #2: x = -1.9817212490479819 , ea = 2.959262106072256 \n",
      "Iteration #3: x = -1.9954828776884295 , ea = 0.68963902393335 \n",
      "Iteration #4: x = -1.9988739130183657 , ea = 0.1696472852965326 \n",
      "Iteration #5: x = -1.999718676474529 , ea = 0.04224411493983486 \n",
      "Iteration #6: x = -1.9999296814860192 , ea = 0.01055062152652841 \n",
      "Iteration #7: x = -1.9999824211441335 , ea = 0.0026370060834876117 \n",
      "x0 = 1.8\n",
      "Iteration #1: x = 4.2588235294117665 , ea = 57.73480662983428 \n",
      "Iteration #2: x = 4.108502440277422 , ea = 3.6587805732006333 \n",
      "Iteration #3: x = 4.044313107916631 , ea = 1.587150417091652 \n",
      "Iteration #4: x = 4.0178802743157 , ea = 0.6578800709892496 \n",
      "Iteration #5: x = 4.007177549601464 , ea = 0.2670888569761513 \n",
      "Iteration #6: x = 4.002875132362699 , ea = 0.10748317388121571 \n",
      "Iteration #7: x = 4.0011507136860525 , ea = 0.04309806853183755 \n",
      "Iteration #8: x = 4.000460391369224 , ea = 0.01725607178409252 \n",
      "Iteration #9: x = 4.000184173502165 , ea = 0.006905128741039296 \n",
      "Iteration #10: x = 4.000073672114306 , ea = 0.002762483816959597 \n",
      "x0 = 4.2\n",
      "Iteration #1: x = 4.083018867924528 , ea = 2.8650646950092584 \n",
      "Iteration #2: x = 4.033745519215272 , ea = 1.2215284398714688 \n",
      "Iteration #3: x = 4.013588395461485 , ea = 0.5022219960716549 \n",
      "Iteration #4: x = 4.005450069771832 , ea = 0.2031813041703267 \n",
      "Iteration #5: x = 4.002182400290679 , ea = 0.081647190315841 \n",
      "Iteration #6: x = 4.000873340896649 , ea = 0.032719341066087475 \n",
      "Iteration #7: x = 4.000349397360623 , ea = 0.013097444347540323 \n",
      "Iteration #8: x = 4.000139768709506 , ea = 0.0052405331622818055 \n",
      "Iteration #9: x = 4.00005590904656 , ea = 0.0020964622708315524 \n"
     ]
    }
   ],
   "source": [
    "print(\"x0 = -1.5\")\n",
    "newton(f,df,-1.5,4)\n",
    "print(\"x0 = 1.8\")\n",
    "newton(f,df,1.8,4)\n",
    "print(\"x0 = 4.2\")\n",
    "newton(f,df,4.2,4)"
   ]
  },
  {
   "cell_type": "markdown",
   "metadata": {},
   "source": [
    "# Task 2"
   ]
  },
  {
   "cell_type": "code",
   "execution_count": 6,
   "metadata": {},
   "outputs": [],
   "source": [
    "def f(x):\n",
    "    return (x**2)-(2*x)-3\n",
    "#end function"
   ]
  },
  {
   "cell_type": "code",
   "execution_count": 7,
   "metadata": {},
   "outputs": [],
   "source": [
    "def newton(f,df,x0,p):\n",
    "    #stopping creiterion\n",
    "    es = 0.5*(10**(2-p))\n",
    "    ea =100\n",
    "    x= x0\n",
    "    prev_x = x\n",
    "    \n",
    "    i = 1\n",
    "    while(ea > es):\n",
    "        x = x-(f(x)/df(x))\n",
    "        ea = abs((x-prev_x)/x) *100\n",
    "        print('Iteration #{}: x = {} , ea = {} '.format(i,x,ea))\n",
    "        prev_x = x\n",
    "        i += 1\n",
    "    #end while"
   ]
  },
  {
   "cell_type": "code",
   "execution_count": 8,
   "metadata": {},
   "outputs": [],
   "source": [
    "def df(x):\n",
    "    return (2*x) - 2"
   ]
  },
  {
   "cell_type": "code",
   "execution_count": 9,
   "metadata": {},
   "outputs": [
    {
     "name": "stdout",
     "output_type": "stream",
     "text": [
      "x0 = 2\n",
      "Iteration #1: x = 3.5 , ea = 42.857142857142854 \n",
      "Iteration #2: x = 3.05 , ea = 14.754098360655746 \n",
      "Iteration #3: x = 3.0006097560975613 , ea = 1.6460069091647866 \n",
      "Iteration #4: x = 3.0000000929222947 , ea = 0.020322105212759834 \n",
      "Iteration #5: x = 3.000000000000002 , ea = 3.0974097509073296e-06 \n"
     ]
    }
   ],
   "source": [
    "print(\"x0 = 2\")\n",
    "newton(f,df,2,4)"
   ]
  },
  {
   "cell_type": "code",
   "execution_count": 10,
   "metadata": {},
   "outputs": [],
   "source": [
    "def g(x):\n",
    "    \n",
    "    return math.sqrt((2*x)+3)\n",
    "#end function"
   ]
  },
  {
   "cell_type": "code",
   "execution_count": 11,
   "metadata": {},
   "outputs": [],
   "source": [
    "def fixedpoint(g,x0,p):\n",
    "     #stopping creiterion\n",
    "    es = 0.5*(10**(2-p))\n",
    "    ea =100\n",
    "    x= x0\n",
    "    prev_x = x\n",
    "    \n",
    "    i = 1\n",
    "    while(ea > es):\n",
    "        x = g(x)\n",
    "        ea = abs((x-prev_x)/x) *100\n",
    "        print('Iteration #{}: x = {} , ea = {} '.format(i,x,ea))\n",
    "        prev_x = x\n",
    "        i += 1\n",
    "    #end while\n",
    "#end function"
   ]
  },
  {
   "cell_type": "code",
   "execution_count": 12,
   "metadata": {},
   "outputs": [
    {
     "name": "stdout",
     "output_type": "stream",
     "text": [
      "x0 = 2\n",
      "Iteration #1: x = 2.6457513110645907 , ea = 24.407105398154556 \n",
      "Iteration #2: x = 2.879496939072723 , ea = 8.117585569769869 \n",
      "Iteration #3: x = 2.959559743972986 , ea = 2.70522685217986 \n",
      "Iteration #4: x = 2.986489492354857 , ea = 0.9017191739937086 \n",
      "Iteration #5: x = 2.9954931121118795 , ea = 0.30057220698046405 \n",
      "Iteration #6: x = 2.998497327699953 , ea = 0.10019070420108839 \n",
      "Iteration #7: x = 2.9994990674110746 , ea = 0.03339690023595638 \n",
      "Iteration #8: x = 2.9998330178231836 , ea = 0.01113230003552863 \n",
      "Iteration #9: x = 2.999944338758032 , ea = 0.0037107666769088544 \n"
     ]
    }
   ],
   "source": [
    "print(\"x0 = 2\")\n",
    "fixedpoint(g,2,4)"
   ]
  },
  {
   "cell_type": "code",
   "execution_count": 13,
   "metadata": {},
   "outputs": [],
   "source": [
    "def f2(x):\n",
    "    return math.e**(-x)-x\n",
    "#end function"
   ]
  },
  {
   "cell_type": "code",
   "execution_count": 14,
   "metadata": {},
   "outputs": [],
   "source": [
    "def newton(f2,df,x0,p):\n",
    "    #stopping creiterion\n",
    "    es = 0.5*(10**(2-p))\n",
    "    ea =100\n",
    "    x= x0\n",
    "    prev_x = x\n",
    "    \n",
    "    i = 1\n",
    "    while(ea > es):\n",
    "        x = x-(f2(x)/df(x))\n",
    "        ea = abs((x-prev_x)/x) *100\n",
    "        print('Iteration #{}: x = {} , ea = {} '.format(i,x,ea))\n",
    "        prev_x = x\n",
    "        i += 1\n",
    "    #end while"
   ]
  },
  {
   "cell_type": "code",
   "execution_count": 15,
   "metadata": {},
   "outputs": [],
   "source": [
    "def df2(x):\n",
    "  \n",
    "    return -1*math.e**(-x) -1"
   ]
  },
  {
   "cell_type": "code",
   "execution_count": 16,
   "metadata": {},
   "outputs": [
    {
     "name": "stdout",
     "output_type": "stream",
     "text": [
      "x0 = 2\n",
      "Iteration #1: x = 0.35760876606635295 , ea = 459.2704065953763 \n",
      "Iteration #2: x = 0.5587083284512576 , ea = 35.99365753905149 \n",
      "Iteration #3: x = 0.5671303831487949 , ea = 1.4850297123523477 \n",
      "Iteration #4: x = 0.5671432903796383 , ea = 0.0022758324152457043 \n"
     ]
    }
   ],
   "source": [
    "print(\"x0 = 2\")\n",
    "newton(f2,df2,2,4)"
   ]
  },
  {
   "cell_type": "code",
   "execution_count": 17,
   "metadata": {},
   "outputs": [],
   "source": [
    "def g2(x):\n",
    "    \n",
    "    return math.e**(-x)\n",
    "#end function"
   ]
  },
  {
   "cell_type": "code",
   "execution_count": 18,
   "metadata": {},
   "outputs": [],
   "source": [
    "def fixedpoint(g2,x0,p):\n",
    "     #stopping creiterion\n",
    "    es = 0.5*(10**(2-p))\n",
    "    ea =100\n",
    "    x= x0\n",
    "    prev_x = x\n",
    "    \n",
    "    i = 1\n",
    "    while(ea > es):\n",
    "        x = g2(x)\n",
    "        ea = abs((x-prev_x)/x) *100\n",
    "        print('Iteration #{}: x = {} , ea = {} '.format(i,x,ea))\n",
    "        prev_x = x\n",
    "        i += 1\n",
    "    #end while\n",
    "#end function"
   ]
  },
  {
   "cell_type": "code",
   "execution_count": 19,
   "metadata": {},
   "outputs": [
    {
     "name": "stdout",
     "output_type": "stream",
     "text": [
      "x0 = 2\n",
      "Iteration #1: x = 0.1353352832366127 , ea = 1377.8112197861299 \n",
      "Iteration #2: x = 0.8734230184931167 , ea = 84.50518473052135 \n",
      "Iteration #3: x = 0.417519921988008 , ea = 109.19313606266745 \n",
      "Iteration #4: x = 0.6586783695347459 , ea = 36.612474114958246 \n",
      "Iteration #5: x = 0.5175348725542395 , ea = 27.272267911900776 \n",
      "Iteration #6: x = 0.5959879247824047 , ea = 13.163530495489226 \n",
      "Iteration #7: x = 0.5510179326126039 , ea = 8.161257466990133 \n",
      "Iteration #8: x = 0.5763628131651558 , ea = 4.397383032636662 \n",
      "Iteration #9: x = 0.5619385295108967 , ea = 2.5668792753566416 \n",
      "Iteration #10: x = 0.5701028308007828 , ea = 1.4320752062252151 \n",
      "Iteration #11: x = 0.5654672882556921 , ea = 0.8197720082783275 \n",
      "Iteration #12: x = 0.5680946207793744 , ea = 0.4624815000145292 \n",
      "Iteration #13: x = 0.5666040063330399 , ea = 0.26307869864556244 \n",
      "Iteration #14: x = 0.5674492242407414 , ea = 0.14895040324223774 \n",
      "Iteration #15: x = 0.566969808628573 , ea = 0.08455752050148829 \n",
      "Iteration #16: x = 0.5672416879728515 , ea = 0.04793007108663464 \n",
      "Iteration #17: x = 0.5670874876375709 , ea = 0.027191630681706155 \n",
      "Iteration #18: x = 0.5671749394606749 , ea = 0.01541884470197991 \n",
      "Iteration #19: x = 0.5671253411469633 , ea = 0.008745564712596401 \n",
      "Iteration #20: x = 0.5671534703051209 , ea = 0.004959708373537302 \n"
     ]
    }
   ],
   "source": [
    "print(\"x0 = 2\")\n",
    "fixedpoint(g2,2,4)"
   ]
  },
  {
   "cell_type": "code",
   "execution_count": 20,
   "metadata": {},
   "outputs": [],
   "source": [
    "def f3(x):\n",
    "    return (math.sin(2.0*math.pi*x) + math.e**(1.2*x) + x - 2.5)\n",
    "#end function"
   ]
  },
  {
   "cell_type": "code",
   "execution_count": 21,
   "metadata": {},
   "outputs": [],
   "source": [
    "def newton(f3,df3,x0,p):\n",
    "    #stopping creiterion\n",
    "    es = 0.5*(10**(2-p))\n",
    "    ea =100\n",
    "    x= x0\n",
    "    prev_x = x\n",
    "    \n",
    "    i = 1\n",
    "    while(ea > es):\n",
    "        x = x-(f3(x)/df3(x))\n",
    "        ea = abs((x-prev_x)/x) *100\n",
    "        print('Iteration #{}: x = {} , ea = {} '.format(i,x,ea))\n",
    "        prev_x = x\n",
    "        i += 1\n",
    "    #end while"
   ]
  },
  {
   "cell_type": "code",
   "execution_count": 22,
   "metadata": {},
   "outputs": [],
   "source": [
    "def df3(x):\n",
    "  \n",
    "    return ((1.2*math.e**(1.2*x)) + (2.0*math.pi*math.cos(2.0*math.pi*x)) + 1)"
   ]
  },
  {
   "cell_type": "code",
   "execution_count": 23,
   "metadata": {},
   "outputs": [
    {
     "name": "stdout",
     "output_type": "stream",
     "text": [
      "x0 = 0.7\n",
      "Iteration #1: x = 0.9364976073081325 , ea = 25.253412871808713 \n",
      "Iteration #2: x = 0.8292113576503006 , ea = 12.938347825076121 \n",
      "Iteration #3: x = 0.807763797831567 , ea = 2.6551771540528706 \n",
      "Iteration #4: x = 0.8063485580452486 , ea = 0.17551216185581558 \n",
      "Iteration #5: x = 0.8063421188673036 , ea = 0.0007985664886410313 \n"
     ]
    }
   ],
   "source": [
    "print(\"x0 = 0.7\")\n",
    "newton(f3,df3,0.7,4)"
   ]
  },
  {
   "cell_type": "code",
   "execution_count": null,
   "metadata": {},
   "outputs": [],
   "source": []
  },
  {
   "cell_type": "code",
   "execution_count": null,
   "metadata": {},
   "outputs": [],
   "source": []
  }
 ],
 "metadata": {
  "kernelspec": {
   "display_name": "Python 3",
   "language": "python",
   "name": "python3"
  },
  "language_info": {
   "codemirror_mode": {
    "name": "ipython",
    "version": 3
   },
   "file_extension": ".py",
   "mimetype": "text/x-python",
   "name": "python",
   "nbconvert_exporter": "python",
   "pygments_lexer": "ipython3",
   "version": "3.8.3"
  }
 },
 "nbformat": 4,
 "nbformat_minor": 4
}
