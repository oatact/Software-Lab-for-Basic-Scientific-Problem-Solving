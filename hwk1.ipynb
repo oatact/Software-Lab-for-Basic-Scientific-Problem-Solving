{
 "cells": [
  {
   "cell_type": "code",
   "execution_count": 1,
   "metadata": {},
   "outputs": [],
   "source": [
    "#This is task 3\n",
    "#i'm assume 4 movies and use input to pick movie then after pick movie i use input to check rating movie and print "
   ]
  },
  {
   "cell_type": "code",
   "execution_count": 1,
   "metadata": {},
   "outputs": [
    {
     "name": "stdout",
     "output_type": "stream",
     "text": [
      "['Avatar', 'Avenger', 'Titanic', 'Starwar']\n",
      "Please select movie : Titanic\n",
      "Titanic\n",
      "Please input rating (1-10) : 8\n",
      "Bravo\n",
      "Thank you\n"
     ]
    }
   ],
   "source": [
    "movie_list = ['Avatar' , 'Avenger' , 'Titanic' ,  'Starwar']\n",
    "\n",
    "print(movie_list)\n",
    "\n",
    "pickmovie = input('Please select movie : ')\n",
    "\n",
    "print(pickmovie)\n",
    "\n",
    "ratingmovie = int(input('Please input rating (1-10) : '))\n",
    "\n",
    "if ratingmovie >= 8 :\n",
    "    print('Bravo' )\n",
    "elif ratingmovie <=3 :\n",
    "    print('Geeze' )\n",
    "\n",
    "print('Thank you')"
   ]
  },
  {
   "cell_type": "code",
   "execution_count": 2,
   "metadata": {},
   "outputs": [],
   "source": [
    "#This is task 4\n",
    "#salary = 2000 \n",
    "#year =12\n",
    "#year interest = 0.25*12"
   ]
  },
  {
   "cell_type": "code",
   "execution_count": 3,
   "metadata": {},
   "outputs": [
    {
     "name": "stdout",
     "output_type": "stream",
     "text": [
      "Monuth 1 has 2005.0 Bath\n",
      "Monuth 2 has 4015.0125 Bath\n",
      "Monuth 3 has 6030.05003125 Bath\n",
      "Monuth 4 has 8050.125156328125 Bath\n",
      "Monuth 5 has 10075.250469218947 Bath\n",
      "Monuth 6 has 12105.438595391994 Bath\n",
      "Monuth 7 has 14140.702191880473 Bath\n",
      "Monuth 8 has 16181.053947360175 Bath\n",
      "Monuth 9 has 18226.506582228576 Bath\n",
      "Monuth 10 has 20277.072848684147 Bath\n",
      "Monuth 11 has 22332.765530805857 Bath\n",
      "Monuth 12 has 24393.597444632873 Bath\n"
     ]
    }
   ],
   "source": [
    "salary = 0\n",
    "rate =  (0.25/100)\n",
    "for i in range(1,13):\n",
    "    salary += 2000\n",
    "    salary += salary*(rate)\n",
    "    print(\"Monuth \" +str(i) + \" has \" + str(salary) + \" Bath\")"
   ]
  },
  {
   "cell_type": "code",
   "execution_count": 4,
   "metadata": {},
   "outputs": [
    {
     "name": "stdout",
     "output_type": "stream",
     "text": [
      "I have 24393.597444632873 Bath after 12 months from the first month that I deposit the money\n"
     ]
    }
   ],
   "source": [
    "print('I have' , salary , 'Bath after 12 months from the first month that I deposit the money')"
   ]
  },
  {
   "cell_type": "code",
   "execution_count": 6,
   "metadata": {},
   "outputs": [
    {
     "name": "stdout",
     "output_type": "stream",
     "text": [
      "User please input the first number\n",
      "1\n",
      "User please input the second number\n",
      "2\n",
      "The minium of the two number : 1 and 2 is 1\n",
      "The GCD of 1 and 2 is 12\n"
     ]
    }
   ],
   "source": [
    "#Task 7\n",
    "\n",
    "print('User please input the first number')\n",
    "num1 = int(input())\n",
    "print('User please input the second number')\n",
    "num2 = int(input())\n",
    "\n",
    "#find the GCD\n",
    "start = min(num1,num2)\n",
    "print('The minium of the two number : {} and {} is {}' .format(num1,num2,start))\n",
    "\n",
    "end = 1\n",
    "for i in range(start,end,-1):\n",
    "    if(num1%i==0) and (num2%i==0):\n",
    "       break;\n",
    "    #end if\n",
    "    #end for\n",
    "print('The GCD of {} and {} is {}'.format(num1,num2,i))"
   ]
  },
  {
   "cell_type": "code",
   "execution_count": 7,
   "metadata": {},
   "outputs": [
    {
     "name": "stdout",
     "output_type": "stream",
     "text": [
      "2.4495\n"
     ]
    }
   ],
   "source": [
    "import math  \n",
    "\n",
    "print('%.4f'% (math.sqrt(6)))\n"
   ]
  },
  {
   "cell_type": "code",
   "execution_count": 8,
   "metadata": {},
   "outputs": [
    {
     "ename": "SyntaxError",
     "evalue": "unexpected EOF while parsing (<ipython-input-8-fa4bf69fdaed>, line 15)",
     "output_type": "error",
     "traceback": [
      "\u001b[1;36m  File \u001b[1;32m\"<ipython-input-8-fa4bf69fdaed>\"\u001b[1;36m, line \u001b[1;32m15\u001b[0m\n\u001b[1;33m    print('{%.7f} is close to the square root of {}'.format(guess,x)\u001b[0m\n\u001b[1;37m                                                                    ^\u001b[0m\n\u001b[1;31mSyntaxError\u001b[0m\u001b[1;31m:\u001b[0m unexpected EOF while parsing\n"
     ]
    }
   ],
   "source": [
    "x = int(input('Enter a number : '))\n",
    "guess = 0.0 # The guess answer\n",
    "epsilon = 0.01 # Used for accuracy. See the condition in While Loop\n",
    "step = epsilon**2 #used to increment our guess 'ans'\n",
    "total_guesses = 0\n",
    "# We will understand this condition during code analysis\n",
    "while (abs(guess**2 - x)) >= epsilon:\n",
    "    guess += step\n",
    "    total_guesses += 1\n",
    "\n",
    "print('Total guesses were ' + str(total_guesses))\n",
    "if abs(guess**2-x) >= epsilon:\n",
    "    print('Failed on square root of ' + str(x))\n",
    "else:\n",
    "    print('{%.7f} is close to the square root of {}'.format(guess,x)"
   ]
  },
  {
   "cell_type": "code",
   "execution_count": 10,
   "metadata": {},
   "outputs": [
    {
     "name": "stdout",
     "output_type": "stream",
     "text": [
      "Input a binary number: 1110\n",
      "The decimal value of the number is 14\n"
     ]
    }
   ],
   "source": [
    "b_num = list(input(\"Input a binary number: \"))\n",
    "value = 0\n",
    "\n",
    "for i in range(len(b_num)):\n",
    "\tdigit = b_num.pop()\n",
    "\tif digit == '1':\n",
    "\t\tvalue = value + pow(2, i)\n",
    "print(\"The decimal value of the number is\", value)\n"
   ]
  },
  {
   "cell_type": "code",
   "execution_count": null,
   "metadata": {},
   "outputs": [],
   "source": []
  }
 ],
 "metadata": {
  "kernelspec": {
   "display_name": "Python 3",
   "language": "python",
   "name": "python3"
  },
  "language_info": {
   "codemirror_mode": {
    "name": "ipython",
    "version": 3
   },
   "file_extension": ".py",
   "mimetype": "text/x-python",
   "name": "python",
   "nbconvert_exporter": "python",
   "pygments_lexer": "ipython3",
   "version": "3.8.3"
  }
 },
 "nbformat": 4,
 "nbformat_minor": 4
}
