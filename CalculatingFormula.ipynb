{
 "cells": [
  {
   "cell_type": "code",
   "execution_count": 12,
   "metadata": {},
   "outputs": [
    {
     "name": "stdout",
     "output_type": "stream",
     "text": [
      "Gauss Elimination Method\n",
      "a0 =  5.000000000000003\n",
      "a1 =  4.000000000000001\n",
      "a2 =  -3.0000000000000018\n",
      "y = 5.000000000000003 + 4.000000000000001x + -3.0000000000000018x^2 \n"
     ]
    }
   ],
   "source": [
    "#Solve matrix equation\n",
    "import numpy as np\n",
    "import math\n",
    "\n",
    "def fw_elim_rec(m):\n",
    "    (nrow, ncol) = np.shape(m)\n",
    "    calM = m.copy()\n",
    "    \n",
    "    if(nrow == 1):\n",
    "        pass\n",
    "    else:\n",
    "        for i in range(0, nrow-1):\n",
    "            fac = calM[i+1,0]/calM[0,0]\n",
    "            calM[i+1,:] = calM[i+1,:] - calM[0,:]*fac\n",
    "        \n",
    "        temp = fw_elim_rec(calM[1:nrow,1:ncol])\n",
    "        calM[1:nrow,1:ncol] = temp\n",
    "            \n",
    "    return calM    \n",
    "\n",
    "def Back_sub_for(m):\n",
    "    (nrow, ncol) = np.shape(m)\n",
    "    calM = m.copy()\n",
    "    \n",
    "    result = np.zeros(nrow)\n",
    "    \n",
    "    for i in range(nrow-1, -1, -1):\n",
    "        \n",
    "        sum_of_prod = 0\n",
    "        for j in range(nrow-1, i-1, -1):\n",
    "            prod = calM[i,j]*result[j]\n",
    "            sum_of_prod += prod\n",
    "        \n",
    "        result[i] = (calM[i,ncol-1] - sum_of_prod)/calM[i,i]\n",
    "            \n",
    "    return result\n",
    "\n",
    "M = np.matrix([\n",
    "    [6., 16.5, 14., 54.],\n",
    "    [16.5, 76.25, 48., 243.5],\n",
    "    [14., 48., 54., 100.]\n",
    "    ])\n",
    "\n",
    "print(\"Gauss Elimination Method\")\n",
    "# print(\"Original matrix of 3 equations: \")\n",
    "# print(M)\n",
    "\n",
    "result_rec = fw_elim_rec(M)\n",
    "# print(result_rec)\n",
    "\n",
    "output = Back_sub_for(result_rec)\n",
    "print('a0 = ',output[0])\n",
    "print('a1 = ',output[1])\n",
    "print('a2 = ',output[2])\n",
    "print('y = {} + {}x + {}x^2 '.format(output[0],output[1],output[2]))"
   ]
  },
  {
   "cell_type": "code",
   "execution_count": null,
   "metadata": {},
   "outputs": [],
   "source": []
  }
 ],
 "metadata": {
  "kernelspec": {
   "display_name": "Python 3",
   "language": "python",
   "name": "python3"
  },
  "language_info": {
   "codemirror_mode": {
    "name": "ipython",
    "version": 3
   },
   "file_extension": ".py",
   "mimetype": "text/x-python",
   "name": "python",
   "nbconvert_exporter": "python",
   "pygments_lexer": "ipython3",
   "version": "3.8.3"
  }
 },
 "nbformat": 4,
 "nbformat_minor": 4
}
