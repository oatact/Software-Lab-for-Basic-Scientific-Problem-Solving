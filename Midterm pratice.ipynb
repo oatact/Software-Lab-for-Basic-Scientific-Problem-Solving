{
 "cells": [
  {
   "cell_type": "code",
   "execution_count": 1,
   "metadata": {},
   "outputs": [],
   "source": [
    "import numpy as np\n",
    "import math"
   ]
  },
  {
   "cell_type": "markdown",
   "metadata": {},
   "source": [
    "## Ex.1\n",
    "### Write a python program to calculate the area of a triangle given 3 sides (8, 6 and 10)."
   ]
  },
  {
   "cell_type": "code",
   "execution_count": 2,
   "metadata": {},
   "outputs": [
    {
     "name": "stdout",
     "output_type": "stream",
     "text": [
      "The are of a triangle is 24.0\n"
     ]
    }
   ],
   "source": [
    "import math\n",
    "a = 8\n",
    "b = 6\n",
    "c = 10\n",
    "p = (8+6+10)/2\n",
    "\n",
    "Area = math.sqrt(p*(p-a)*(p-b)*(p-c)) # Heron's Method\n",
    "\n",
    "print('The are of a triangle is {}'.format(Area))"
   ]
  },
  {
   "cell_type": "markdown",
   "metadata": {},
   "source": [
    "## Ex.2\n",
    "### Write a python program to flip a coin 1000 times and count the number of heads"
   ]
  },
  {
   "cell_type": "code",
   "execution_count": 3,
   "metadata": {},
   "outputs": [
    {
     "name": "stdout",
     "output_type": "stream",
     "text": [
      "The number of head is 514\n"
     ]
    }
   ],
   "source": [
    "import random\n",
    "#simulations typically make use of random numbers \n",
    " \n",
    "n = 1000 #this value can easily be changed to change the sample size\n",
    "heads = 0\n",
    " \n",
    "for i in range(n):\n",
    "    flip = random.randint(1,2) # get a random number between 1 and 2\n",
    "    if flip == 1: # head\n",
    "        heads = heads + 1\n",
    "\n",
    "\n",
    "\n",
    "print('The number of head is {}'.format(heads))"
   ]
  },
  {
   "cell_type": "markdown",
   "metadata": {},
   "source": [
    "## Ex.3\n",
    "### Write a python program to round the value of Pi to 5 decimal digits."
   ]
  },
  {
   "cell_type": "code",
   "execution_count": 4,
   "metadata": {},
   "outputs": [
    {
     "name": "stdout",
     "output_type": "stream",
     "text": [
      "3.1416005075068716\n"
     ]
    }
   ],
   "source": [
    "es = 0.5*pow(10, 2-5)\n",
    "ea = 100\n",
    "i = 0\n",
    "sum = 0\n",
    "prev_sum = 0\n",
    "while ea > es:\n",
    "    sum = sum + ((-1)**i) / ((2*i)+1)\n",
    "    ea = abs((sum-prev_sum)/sum)*100\n",
    "    prev_sum = sum\n",
    "    #print('interval:{} appoximate_error:{} sum:{}'.format(i,ea,sum))\n",
    "    i += 1\n",
    "# end while\n",
    "print(sum*4)"
   ]
  },
  {
   "cell_type": "markdown",
   "metadata": {},
   "source": [
    "## Ex.4\n",
    "### Write a python program to convert a number in base 10 to base 2 (including number n with |n| < 1) and vice versa."
   ]
  },
  {
   "cell_type": "code",
   "execution_count": 5,
   "metadata": {},
   "outputs": [],
   "source": [
    "def dec_bin(dec):\n",
    "    if type(dec) == int:\n",
    "        result = convert_int_bin(dec)\n",
    "    else:\n",
    "        result = convert_float_bin(dec)\n",
    "    print(result)\n",
    "\n",
    "\n",
    "def convert_int_bin(dec):\n",
    "    if dec == 0:\n",
    "        return '0'\n",
    "    int_bin = ''\n",
    "    while dec != 0:\n",
    "        int_bin += str(dec%2)\n",
    "        dec = dec//2\n",
    "    # end while\n",
    "    return int_bin[::-1]\n",
    "\n",
    "\n",
    "def convert_float_bin(dec):\n",
    "    # convert to string\n",
    "    dec = str(dec)\n",
    "    dec = dec.split('.')\n",
    "    # call another function to convert integer part to binary.\n",
    "    int_part = convert_int_bin(int(dec[0]))\n",
    "    # convert string to float.\n",
    "    flo_part = float('0.'+dec[1])\n",
    "    size = len(str(flo_part))-2\n",
    "    i = 0\n",
    "    # check repeat number.\n",
    "    check = flo_part\n",
    "    flo_bin = ''\n",
    "    while i < 32:\n",
    "        flo_part = flo_part*2\n",
    "        flo_bin += str(int(flo_part//1))\n",
    "        flo_part = flo_part%1\n",
    "        i+=1\n",
    "        # repeat number then stop\n",
    "        if check == round(flo_part,size):\n",
    "            break\n",
    "    # end while\n",
    "    # return full part of binary.\n",
    "    return int_part+'.'+flo_bin\n"
   ]
  },
  {
   "cell_type": "code",
   "execution_count": 6,
   "metadata": {},
   "outputs": [
    {
     "name": "stdout",
     "output_type": "stream",
     "text": [
      "0.01000000000000000000000000000000\n"
     ]
    }
   ],
   "source": [
    "dec_bin(0.25)"
   ]
  },
  {
   "cell_type": "code",
   "execution_count": 7,
   "metadata": {},
   "outputs": [],
   "source": [
    "def bin_dec(bin):\n",
    "    if type(bin) == int:\n",
    "        result = convert_bin_int(bin)\n",
    "    else:\n",
    "        result = convert_bin_float(bin)\n",
    "    print(result)\n",
    "    \n",
    "\n",
    "def convert_bin_int(bin):\n",
    "    if bin == 0:\n",
    "        return '0'\n",
    "    bin = str(bin)\n",
    "    size = len(bin)-1\n",
    "    dec = 0\n",
    "    for i in bin:\n",
    "        if i == '1':\n",
    "            dec += 2**size\n",
    "        size -= 1\n",
    "    return int(dec)\n",
    "\n",
    "def convert_bin_float(bin):\n",
    "    bin = str(bin)\n",
    "    bin = bin.split('.')\n",
    "    int_part, flo_part = bin[0], bin[1]\n",
    "    int_part = convert_bin_int(bin[0])\n",
    "    size = -1\n",
    "    flo = 0\n",
    "    for i in flo_part:\n",
    "        if i == '1':\n",
    "            flo += 2**size\n",
    "        size -=1 \n",
    "    return int_part + float(flo)"
   ]
  },
  {
   "cell_type": "code",
   "execution_count": 8,
   "metadata": {},
   "outputs": [
    {
     "name": "stdout",
     "output_type": "stream",
     "text": [
      "2\n"
     ]
    }
   ],
   "source": [
    "bin_dec(10)"
   ]
  },
  {
   "cell_type": "markdown",
   "metadata": {},
   "source": [
    "## Ex.5\n",
    "### Write a python program to convert a number in base 10 to IEEE-754 32 bits: input is a number in base 10 and output is a list of 3 numbers: sign, exponent and fraction."
   ]
  },
  {
   "cell_type": "code",
   "execution_count": 9,
   "metadata": {},
   "outputs": [],
   "source": [
    "def dec_to_ieee(N):\n",
    "    print('Decimal :',N)\n",
    "    sign = float(N)\n",
    "    \n",
    "    # split in integer part and float part.\n",
    "    temp = N.split('.')\n",
    "    \n",
    "    # step2: Calculate integer part to binary\n",
    "    Integer = ''\n",
    "    N = temp[0]\n",
    "    # step1: Convert string to positive integer.\n",
    "    N = abs(int(N)) \n",
    "    if(N != 0):\n",
    "        while N > 0:\n",
    "            remainder = N % 2\n",
    "            N = N // 2\n",
    "            Integer += str(remainder)\n",
    "        # end while\n",
    "    else:\n",
    "        Integer = '0'\n",
    "    # Reverse the binary\n",
    "    Integer = Integer[::-1]\n",
    "    # End calculate integer part to binary\n",
    "\n",
    "    # step3: Calculate floating part\n",
    "    y = temp[1]\n",
    "    length = len(y)\n",
    "    # Convert string to floating-point\n",
    "    y = float(y) / (10**length)\n",
    "    Float = ''\n",
    "    for i in range(0, 28):\n",
    "        y = y * 2\n",
    "        Float += str(int(y // 1))\n",
    "        y = y % 1\n",
    "    # end for\n",
    "    # End calculate floating part\n",
    "\n",
    "    #step4: Summarizing - the positive number before normalization:\n",
    "    result = Integer + Float\n",
    "    counter = 0\n",
    "    \n",
    "    # step5: Calulate exponent to binary.\n",
    "    # Normalize the binary representation of the number..\n",
    "    # find one non-zero digit stays to the left of the decimal point.\n",
    "    # use counter to count the one non-zero left most\n",
    "    # 1 1001.0101 1000 1101 0100 1111 1101(2) × 2^0\n",
    "    # 1.1001 0101 1000 1101 0100 1111 1101(2) × 2^4 (exponent = 4)\n",
    "    for i in result:\n",
    "        counter += 1\n",
    "        if i == '1':\n",
    "            break\n",
    "    # end for\n",
    "    # shift to the right.\n",
    "    if(counter > len(Integer)+1):\n",
    "        exponent = len(Integer) - counter\n",
    "    # shift to the left.\n",
    "    else:\n",
    "        exponent = counter - len(Integer)\n",
    "        exponent = abs(exponent)\n",
    "    # adjusted exponent by + 127\n",
    "    exponent = exponent + 127\n",
    "    # Convert exponent to binary\n",
    "    bin_exponent = ''\n",
    "    while exponent > 0:\n",
    "        remainder = exponent % 2\n",
    "        exponent = exponent // 2\n",
    "        bin_exponent += str(remainder)\n",
    "    # End calculate exponent to binary\n",
    "\n",
    "    print('Sign :', '0' if sign >= 0 else '1')\n",
    "    print('Exponent :', bin_exponent[::-1].zfill(8))\n",
    "    # Normalize the mantissa(fraction), remove the leading (leftmost) bit,\n",
    "    # since it's allways '1' (and the decimal point) and adjust\n",
    "    # its length to 23 bits, by removing the excess bits from\n",
    "    # the right (losing precision...):\n",
    "    fraction = result[counter::]\n",
    "    print('Fraction :', fraction[0:23])\n",
    "    if sign >= 0:\n",
    "        IEEE = '0-'\n",
    "    else:\n",
    "        IEEE = '1-'\n",
    "    return IEEE + bin_exponent[::-1].zfill(8) + '-' + fraction[0:23]"
   ]
  },
  {
   "cell_type": "code",
   "execution_count": 10,
   "metadata": {},
   "outputs": [
    {
     "name": "stdout",
     "output_type": "stream",
     "text": [
      "Decimal : 25.37\n",
      "Sign : 0\n",
      "Exponent : 10000011\n",
      "Fraction : 10010101111010111000010\n"
     ]
    },
    {
     "data": {
      "text/plain": [
       "'0-10000011-10010101111010111000010'"
      ]
     },
     "execution_count": 10,
     "metadata": {},
     "output_type": "execute_result"
    }
   ],
   "source": [
    "dec_to_ieee('25.37')"
   ]
  },
  {
   "cell_type": "markdown",
   "metadata": {},
   "source": [
    "## Ex6.\n",
    "### We know that tan 𝜋/4 = 1. Use the following Taylor series expansion for arctan to evaluate the value of 𝜋 for up to 6 significant digits."
   ]
  },
  {
   "cell_type": "code",
   "execution_count": 53,
   "metadata": {},
   "outputs": [
    {
     "name": "stdout",
     "output_type": "stream",
     "text": [
      "3.14159343898711\n"
     ]
    }
   ],
   "source": [
    "es = 0.5*pow(10, 2-6)\n",
    "ea = 100\n",
    "n = 1\n",
    "prev = 0\n",
    "x = 1\n",
    "n = 1\n",
    "s = 0\n",
    "while ea > es :\n",
    "    p = (2*n)-1\n",
    "    y = ((x**p)/p)*((-1)**(n+1))\n",
    "    s+= y\n",
    "    ea = abs((s-prev)/s)*100\n",
    "    prev = s\n",
    "    n+=1\n",
    "print(s*4)"
   ]
  },
  {
   "cell_type": "code",
   "execution_count": 54,
   "metadata": {},
   "outputs": [],
   "source": [
    "import matplotlib.pyplot as plt"
   ]
  },
  {
   "cell_type": "markdown",
   "metadata": {},
   "source": [
    "## Ex7.\n",
    "### For function 𝑓(𝑥) = 𝑒􀬿􀯫 − ln (𝑥),\n",
    "### a. Plot 𝑓(𝑥)\n",
    "### b. Solve 𝑓(𝑥) = 0 using eye-balling methods, interval search, Newton-Raphson, bisection and false position."
   ]
  },
  {
   "cell_type": "code",
   "execution_count": 55,
   "metadata": {},
   "outputs": [],
   "source": [
    "def f(x):\n",
    "    return np.e**(-x) - np.log(x)"
   ]
  },
  {
   "cell_type": "code",
   "execution_count": 56,
   "metadata": {},
   "outputs": [],
   "source": [
    "def df(x):\n",
    "    return (-1) * ((np.e**(-x) * x+1)/x)"
   ]
  },
  {
   "cell_type": "code",
   "execution_count": 61,
   "metadata": {},
   "outputs": [
    {
     "name": "stdout",
     "output_type": "stream",
     "text": [
      "[1.  1.1 1.2 1.3 1.4 1.5 1.6 1.7 1.8 1.9 2.  2.1 2.2 2.3 2.4 2.5 2.6 2.7\n",
      " 2.8 2.9 3.  3.1 3.2 3.3 3.4 3.5 3.6 3.7 3.8 3.9 4.  4.1 4.2 4.3 4.4 4.5\n",
      " 4.6 4.7 4.8 4.9]\n"
     ]
    },
    {
     "data": {
      "image/png": "[encoded data removed]",
      "text/plain": [
       "<Figure size 432x288 with 1 Axes>"
      ]
     },
     "metadata": {
      "needs_background": "light"
     },
     "output_type": "display_data"
    }
   ],
   "source": [
    "# Prepare the data\n",
    "x = np.arange(1,5,0.1)\n",
    "print(x)\n",
    "y = f(x)\n",
    "# Plot the data\n",
    "plt.plot(x, y)\n",
    "plt.grid()\n",
    "# Show the plot\n",
    "plt.show()"
   ]
  },
  {
   "cell_type": "code",
   "execution_count": 16,
   "metadata": {},
   "outputs": [],
   "source": [
    "def interval_search(L,U,N,p):\n",
    "    #stopping criterion \n",
    "    es = 0.5*(10**(2-p))\n",
    "    # divide the interval from L to U into N ticks\n",
    "    # N ticks mean (N-1) number of intervals\n",
    "    ea = 100\n",
    "    prev_xr = U\n",
    "    \n",
    "    while (ea > es): \n",
    "            x = np.linspace(L,U,N)\n",
    "            for k in range(0,N-1):       \n",
    "                if(f(x[k]) * f(x[k+1]) <0 ):\n",
    "                    L= x[k]\n",
    "                    U = x[k+1]\n",
    "                    xr = (x[k]+x[k+1])/2\n",
    "                    #print('There is a root inside [{},{}]. The estimated root at {}'.format(x[k],x[k+1],xr))\n",
    "                else:\n",
    "                        pass\n",
    "                #end if\n",
    "           #end for\n",
    "            ea = abs((xr-prev_xr)/xr)*100\n",
    "            prev_xr = xr\n",
    "    print('found root in [{},{}] xr = {}'.format(L, U , xr))\n",
    "    print('approxmate error =',ea)\n",
    "    #end while\n",
    "#end function"
   ]
  },
  {
   "cell_type": "code",
   "execution_count": 17,
   "metadata": {},
   "outputs": [],
   "source": [
    "\n",
    "def newton(f,df,x0,p):\n",
    "    es = 0.5 *(10**(2-p))\n",
    "    x = prev_x = float(x0)\n",
    "    i = 0\n",
    "    ea = 100\n",
    "    while ea > es:\n",
    "        x = x - (f(x)/df(x))\n",
    "        ea = abs((x-prev_x)/x) * 100\n",
    "        prev_x = x\n",
    "        i += 1\n",
    "    print('found root x = {}'.format(x))\n",
    "    print('approxmate error =',ea)"
   ]
  },
  {
   "cell_type": "code",
   "execution_count": 18,
   "metadata": {},
   "outputs": [],
   "source": [
    "def bisection(xl,xu,p):\n",
    "    #stopping criterion \n",
    "    es = 0.5*(10**(2-p))\n",
    "    # divide the interval from L to U into N ticks\n",
    "    # N ticks mean (N-1) number of intervals\n",
    "    ea = 100\n",
    "    prev_xr = xu\n",
    "    i = 1\n",
    "    while(ea > es):\n",
    "        xm = (xl + xu)/2\n",
    "        if (f(xl) * f(xm) >0):\n",
    "            xl = xm\n",
    "            #xu = xu\n",
    "        else:\n",
    "            #xl = xl\n",
    "            xu = xm\n",
    "        #end if\n",
    "            xr = (xl+xu)/2\n",
    "            ea = abs((xr-prev_xr)/xr)*100\n",
    "            prev_xr = xr\n",
    "            #print('Iteration #{} ,new interval = [{}.{}], xr  = {}, ea = {}'.format(i,xl,xu,xr,ea))\n",
    "            i += 1\n",
    "    print('found root in [{},{}] xr = {}'.format(xl, xu, xr))\n",
    "    print('approxmate error =',ea)  \n",
    "    #end while\n",
    "#end function"
   ]
  },
  {
   "cell_type": "code",
   "execution_count": 19,
   "metadata": {},
   "outputs": [],
   "source": [
    "def falseposition(xl,xu,p):\n",
    "    #stopping criterion \n",
    "    es = 0.5*(10**(2-p))\n",
    "    # divide the interval from L to U into N ticks\n",
    "    # N ticks mean (N-1) number of intervals\n",
    "    ea = 100\n",
    "    prev_xr = xu\n",
    "    i = 1\n",
    "    while(ea > es):\n",
    "       # xm = (xl + xu)/2\n",
    "        xr = xu- f(xu)*(xu-xl)/(f(xu)-f(xl))\n",
    "        if (f(xl) * f(xr) >0):\n",
    "            xl = xr\n",
    "            #xu = xu\n",
    "        else:\n",
    "            #xl = xl\n",
    "            xu = xr\n",
    "        #end if\n",
    "            #xr = xu- f(xu)*(xu-xl)/(f(xu)-f(xl))\n",
    "            ea = abs((xr-prev_xr)/xr)*100\n",
    "            prev_xr = xr\n",
    "           # print('Iteration #{} ,new interval = [{}.{}], xr  = {}, ea = {}'.format(i,xl,xu,xr,ea))\n",
    "            i += 1\n",
    "    #end while\n",
    "    print('found root in [{},{}] xr = {}'.format(xl, xu , xr))\n",
    "    print('approxmate error =',ea)\n",
    "#end function"
   ]
  },
  {
   "cell_type": "code",
   "execution_count": 20,
   "metadata": {},
   "outputs": [
    {
     "name": "stdout",
     "output_type": "stream",
     "text": [
      "Interval search:\n",
      "found root in [1.30979,1.3098] xr = 1.309795\n",
      "approxmate error = 0.0034356521440264097\n",
      "Bisection:\n",
      "found root in [1.3097991943359375,1.3098030090332031] xr = 1.3098011016845703\n",
      "approxmate error = 0.00014562124206182205\n",
      "False position:\n",
      "found root in [1.309799585804151,1.3097995858041505] xr = 1.3097995858041505\n",
      "approxmate error = 0.0\n",
      "Newton:\n",
      "found root x = 1.3097995858021254\n",
      "approxmate error = 0.00016913260022364605\n"
     ]
    }
   ],
   "source": [
    "print('Interval search:')\n",
    "interval_search(1,2,11,4)\n",
    "print('Bisection:')\n",
    "bisection(1, 2 , 4)\n",
    "print('False position:')\n",
    "falseposition(2, 3 , 4)\n",
    "print('Newton:')\n",
    "newton(f,df,0.1,4)"
   ]
  },
  {
   "cell_type": "markdown",
   "metadata": {},
   "source": [
    "## Task8\n",
    "### For function 𝑓(𝑥) = 𝑥􀬶 − ln(𝑥) − 5\n",
    "### a. Find minimum using calculus, equal interval search, golden section search, parabolic interpolation\n",
    "### b. Solve 𝑓(𝑥) = 0 using eye-balling methods, interval search, Newton-Raphson, bisection and false position."
   ]
  },
  {
   "cell_type": "code",
   "execution_count": 21,
   "metadata": {},
   "outputs": [],
   "source": [
    "def f(x):\n",
    "    return x**2 - np.log(x)-5"
   ]
  },
  {
   "cell_type": "code",
   "execution_count": 22,
   "metadata": {},
   "outputs": [],
   "source": [
    "\n",
    "def df(x):\n",
    "    return 2*x - (1/x)"
   ]
  },
  {
   "cell_type": "code",
   "execution_count": 23,
   "metadata": {},
   "outputs": [],
   "source": [
    "def interval_search_min(f,a,b,p):\n",
    "    es = 0.5*(10**(2-p))\n",
    "    ea = 100\n",
    "    prev_xmin = b\n",
    "    \n",
    "    i=1\n",
    "    while(ea>es):\n",
    "        epsilon = (b-a)/10\n",
    "        xmid  = (a+b)/2\n",
    "        alpha = xmid-(epsilon/2)\n",
    "        beta = xmid+(epsilon/2)\n",
    "        if (f(beta) < f(alpha)):\n",
    "            #[a,b] = [aplha,b]\n",
    "            a = alpha\n",
    "            #b=b\n",
    "            xmin = (a+b)/2\n",
    "        else:\n",
    "            #[a,b] = [a,beta]\n",
    "            #a=a\n",
    "            b=beta\n",
    "            xmin = (a+b)/2\n",
    "        #end if\n",
    "        ea = abs((xmin-prev_xmin)/xmin) * 100\n",
    "        prev_xmin = xmin\n",
    "        i= i+1\n",
    "    #end while\n",
    "    print('[a,b] = [{},{}] , xmax = {} , ea = {}'.format(a,b,xmin,ea))\n",
    "#end function"
   ]
  },
  {
   "cell_type": "code",
   "execution_count": 24,
   "metadata": {},
   "outputs": [
    {
     "name": "stdout",
     "output_type": "stream",
     "text": [
      "[a,b] = [0.707099880201148,0.7071636199498268] , xmax = 0.7071317500754875 , ea = 0.0036874813964279116\n"
     ]
    }
   ],
   "source": [
    "interval_search_min(f,0.5,1.0,4)"
   ]
  },
  {
   "cell_type": "code",
   "execution_count": 25,
   "metadata": {},
   "outputs": [],
   "source": [
    "def golden_min(f,xl,xu,p):\n",
    "    es  = 0.5 * (10**(2-p))\n",
    "    ea = 100\n",
    "    #prev_xmin = xu\n",
    "    i=1\n",
    "    phi = (1+math.sqrt(5))/2\n",
    "    \n",
    "    while (ea>es):\n",
    "        d = (phi-1)*(xu - xl)\n",
    "        x1 = xl + d\n",
    "        x2 = xu - d\n",
    "        if(f(x1)>f(x2)):\n",
    "            #[xl,xu] = [xl,x1]\n",
    "            xu = x1\n",
    "            xmin = x2\n",
    "        else:\n",
    "            #[xl,xu] = [x2,xl]\n",
    "            #xu=xu\n",
    "            xl = x2\n",
    "            xmin = x1\n",
    "        #end if\n",
    "        ea = (2 - phi)*abs((xu-xl)/xmin)*100\n",
    "        i +=1\n",
    "    #end while\n",
    "    print('[xl,xu] = [{},{}] , xmin = {} , ea = {}'.format(i,xl,xu,xmin,ea))\n",
    "#end function"
   ]
  },
  {
   "cell_type": "code",
   "execution_count": 26,
   "metadata": {},
   "outputs": [
    {
     "name": "stdout",
     "output_type": "stream",
     "text": [
      "[xl,xu] = [19,0.707071172864907] , xmin = 0.7071577080007632 , ea = 0.707104226345583\n"
     ]
    }
   ],
   "source": [
    "golden_min(f,0.5,1.0,4)"
   ]
  },
  {
   "cell_type": "code",
   "execution_count": 27,
   "metadata": {},
   "outputs": [],
   "source": [
    "def parabolic_min(f,x1,x2,x3,p):\n",
    "    es = 0.5*(10**(2-p))\n",
    "    ea = 100\n",
    "    prev_xmin = x2\n",
    "    i = 1\n",
    "    while(ea>es):\n",
    "        alpha1 = (x2-x1)*(x2-x1)*(f(x2)-f(x3))\n",
    "        alpha2 = (x2-x3)*(x2-x3)*(f(x2)-f(x1))\n",
    "        beta1 = (x2-x1)*(f(x2)-f(x3))\n",
    "        beta2 = (x2-x3)*(f(x2)-f(x1))\n",
    "        gamma = (alpha1 - alpha2)/(beta1 - beta2)\n",
    "        x4 = x2 - (0.5 * gamma)\n",
    "       \n",
    "        if(x4>x2):\n",
    "            \n",
    "            x1 = x2\n",
    "            x2 = x4\n",
    "            xmin = x4\n",
    "        else:\n",
    "           \n",
    "            x3 = x2\n",
    "            x2 = x4\n",
    "            xmin = x4\n",
    "        #end if\n",
    "        ea = abs((xmin - prev_xmin)/xmin) * 100\n",
    "        prev_xmin = xmin\n",
    "        i +=1\n",
    "    #end while\n",
    "    print('[x1,x2,x3] = [{},{},{}] , xmin = {} , ea = {}'.format(i,x1,x2,x3,xmin,ea))\n",
    "#end function"
   ]
  },
  {
   "cell_type": "code",
   "execution_count": 28,
   "metadata": {},
   "outputs": [
    {
     "name": "stdout",
     "output_type": "stream",
     "text": [
      "[x1,x2,x3] = [7,0.6,0.7071122195936155] , xmin = 0.707126837758659 , ea = 0.7071122195936155\n"
     ]
    }
   ],
   "source": [
    "parabolic_min(f,0.5,0.6,1.0,4)"
   ]
  },
  {
   "cell_type": "code",
   "execution_count": 29,
   "metadata": {},
   "outputs": [
    {
     "name": "stdout",
     "output_type": "stream",
     "text": [
      "Interval search:\n",
      "found root in [2.4261600000000003,2.42618] xr = 2.42617\n",
      "approxmate error = 0.0028852059006588366\n",
      "Bisection:\n",
      "found root in [2.4261474609375,2.426177978515625] xr = 2.4261627197265625\n",
      "approxmate error = 0.000628926862095207\n",
      "False position:\n",
      "found root in [2.426172930824792,2.4261729308247935] xr = 2.4261729308247935\n",
      "approxmate error = 0.0\n",
      "Newton:\n",
      "found root x = 2.4261729308291877\n",
      "approxmate error = 0.00017479091813871558\n"
     ]
    }
   ],
   "source": [
    "print('Interval search:')\n",
    "interval_search(2.3,2.5,11,4)\n",
    "print('Bisection:')\n",
    "bisection(2, 3 , 4)\n",
    "print('False position:')\n",
    "falseposition(2, 3 , 4)\n",
    "print('Newton:')\n",
    "newton(f,df,2.3,4)"
   ]
  },
  {
   "cell_type": "markdown",
   "metadata": {},
   "source": [
    "## Task9\n",
    "### Matrix\n",
    "### a. Use python to test whether a matrix is a zero matrix, symmetric matrix, identity matrix, upper triangular matrix.\n",
    "### b. Use python to find determinant minor, cofactor, adjoint and inverse of a matrix."
   ]
  },
  {
   "cell_type": "code",
   "execution_count": 30,
   "metadata": {},
   "outputs": [],
   "source": [
    "def is_square(matrix):\n",
    "    \n",
    "\n",
    "    for array in matrix: print(array)\n",
    "    print(\" \")\n",
    "    square = True\n",
    "    rows, colums = a.shape\n",
    "    if rows == colums:\n",
    "        square =  True\n",
    "    else:\n",
    "        square =  False\n",
    "            \n",
    "    \n",
    "    if(square):\n",
    "        print('This is square matrix')\n",
    "    else:\n",
    "        print('This is not square matrix')"
   ]
  },
  {
   "cell_type": "code",
   "execution_count": 31,
   "metadata": {},
   "outputs": [],
   "source": [
    "def is_symmetrical(matrix): \n",
    "    rows = len(matrix)  \n",
    "    cols = len(matrix[0])\n",
    "    for array in matrix: print(array)\n",
    "    print(\" \")\n",
    "    sym = True\n",
    "    if(rows == cols):\n",
    "        for i in range(rows): \n",
    "            for j in range(cols): \n",
    "                if (matrix[i][j] != matrix[j][i]): \n",
    "                    sym =  False\n",
    "        sym =  True\n",
    "    else:\n",
    "        sym = False\n",
    "    \n",
    "    \n",
    "    \n",
    "    \n",
    "    \n",
    "    \n",
    "    if(sym):\n",
    "        print('This is symmetrical matrix')\n",
    "    else:\n",
    "        print('This is not symmetrical matrix')"
   ]
  },
  {
   "cell_type": "code",
   "execution_count": 32,
   "metadata": {},
   "outputs": [],
   "source": [
    "def is_indentity(matrix):\n",
    "    check = True;  \n",
    "   \n",
    "    #Calculates number of rows and columns present in given matrix  \n",
    "    rows = len(matrix)  \n",
    "    cols = len(matrix[0])  \n",
    "    \n",
    "    for array in matrix: print(array)\n",
    "    print(\" \")\n",
    "            \n",
    "            \n",
    "    #Checks whether given matrix is a square matrix or not  \n",
    "    if(rows == cols): \n",
    "    #Checks if diagonal elements are equal to 1 and rest of elements are 0 \n",
    "        for i in range(0, rows):  \n",
    "            for j in range(0, cols):  \n",
    "                if(i == j and matrix[i][j] != 1):  \n",
    "                    check = False;  \n",
    "                    break;  \n",
    "                  \n",
    "                if(i != j and matrix[i][j] != 0):  \n",
    "                    check = False;  \n",
    "                    break;\n",
    "    else:\n",
    "        check = False\n",
    "                    \n",
    "                    \n",
    "                    \n",
    "        if(check):  \n",
    "            print(\"This is an identity matrix\");  \n",
    "        else:  \n",
    "            print(\"This is is not an identity matrix\");  "
   ]
  },
  {
   "cell_type": "code",
   "execution_count": 33,
   "metadata": {},
   "outputs": [],
   "source": [
    "def is_zero(matrix):\n",
    "   \n",
    "    check = True\n",
    "    \n",
    "    rows = len(matrix)  \n",
    "    cols = len(matrix[0])  \n",
    "    \n",
    "    for array in matrix: \n",
    "            print(array)\n",
    "    if(rows == cols):\n",
    "        for i in range(0, rows): \n",
    "            for j in range(0, cols) : \n",
    "              \n",
    "            # condition to check \n",
    "            # other elements  \n",
    "            # except main diagonal \n",
    "            # are zero or not. \n",
    "                if ((i != j) and (matrix[i][j] != 0)) : \n",
    "                    check =  False\n",
    "                    break\n",
    "    else:\n",
    "        check = False\n",
    "        \n",
    "        \n",
    "        \n",
    "        \n",
    "    if (check) : \n",
    "        print(\"This is a zero matrix\") \n",
    "    else : \n",
    "        print(\"This is not a zero matrix\") \n",
    "    \n",
    "    "
   ]
  },
  {
   "cell_type": "code",
   "execution_count": 34,
   "metadata": {},
   "outputs": [],
   "source": [
    "def is_upper_triangle(matrix):\n",
    "    check = True\n",
    "    \n",
    "    rows = len(matrix)  \n",
    "    cols = len(matrix[0])  \n",
    "    for array in matrix: \n",
    "            print(array)\n",
    "    if(rows == cols):\n",
    "        check =  False\n",
    "        r,c = a.shape\n",
    "        for i in range(1,r):\n",
    "            for j in range(0,i):\n",
    "                if a[i,j] != 0:\n",
    "                    check =  False\n",
    "                # end if\n",
    "            #end for\n",
    "        #end for\n",
    "\n",
    "        check =  True\n",
    "    else: \n",
    "        check = False\n",
    "        \n",
    "        \n",
    "        \n",
    "        \n",
    "    if (check) : \n",
    "        print(\"This is a upper triangle matrix\") \n",
    "    else : \n",
    "        print(\"This is not a upper triangle matrix\") \n",
    "    \n",
    "     "
   ]
  },
  {
   "cell_type": "code",
   "execution_count": 35,
   "metadata": {},
   "outputs": [],
   "source": [
    "a = np.matrix ([[ 4, 5, 9 ],\n",
    "          [ 5, 0, 3 ],\n",
    "          [ 5, 0, 3 ]])\n",
    "b = np.matrix([\n",
    "    [1,2,4,2],\n",
    "    [0,1,7,3],\n",
    "    [0,0,2,1],\n",
    "    [0,0,0,1]\n",
    "])"
   ]
  },
  {
   "cell_type": "code",
   "execution_count": 36,
   "metadata": {},
   "outputs": [
    {
     "name": "stdout",
     "output_type": "stream",
     "text": [
      "[[4 5 9]]\n",
      "[[5 0 3]]\n",
      "[[5 0 3]]\n",
      " \n",
      "This is square matrix\n"
     ]
    }
   ],
   "source": [
    "is_square(a)"
   ]
  },
  {
   "cell_type": "code",
   "execution_count": 37,
   "metadata": {},
   "outputs": [
    {
     "name": "stdout",
     "output_type": "stream",
     "text": [
      "[[4 5 9]]\n",
      "[[5 0 3]]\n",
      "[[5 0 3]]\n",
      " \n",
      "This is not symmetrical matrix\n"
     ]
    }
   ],
   "source": [
    "is_symmetrical(a)"
   ]
  },
  {
   "cell_type": "code",
   "execution_count": 38,
   "metadata": {},
   "outputs": [
    {
     "name": "stdout",
     "output_type": "stream",
     "text": [
      "[[4 5 9]]\n",
      "[[5 0 3]]\n",
      "[[5 0 3]]\n",
      " \n",
      "This is is not an identity matrix\n"
     ]
    }
   ],
   "source": [
    "is_indentity(a)"
   ]
  },
  {
   "cell_type": "code",
   "execution_count": 39,
   "metadata": {},
   "outputs": [
    {
     "name": "stdout",
     "output_type": "stream",
     "text": [
      "[[4 5 9]]\n",
      "[[5 0 3]]\n",
      "[[5 0 3]]\n",
      "This is not a zero matrix\n"
     ]
    }
   ],
   "source": [
    "is_zero(a)"
   ]
  },
  {
   "cell_type": "code",
   "execution_count": 40,
   "metadata": {},
   "outputs": [
    {
     "name": "stdout",
     "output_type": "stream",
     "text": [
      "[[4 5 9]]\n",
      "[[5 0 3]]\n",
      "[[5 0 3]]\n",
      "This is not a upper triangle matrix\n"
     ]
    }
   ],
   "source": [
    "is_upper_triangle(a)"
   ]
  },
  {
   "cell_type": "code",
   "execution_count": 41,
   "metadata": {},
   "outputs": [],
   "source": [
    "def deter(x):\n",
    "    determainant = 0\n",
    "    if len(x) == 1:\n",
    "        determainant = x[0][0]\n",
    "    else:\n",
    "        for i in range(0,len(x[0])):\n",
    "            mi = minor(x,0,i)\n",
    "            newdat = (mi[0][0]*mi[1][1])-(mi[0][1]*mi[1][0])\n",
    "            determainant += ((-1)**i)*x[0][i]*newdat\n",
    "    return determainant"
   ]
  },
  {
   "cell_type": "code",
   "execution_count": 42,
   "metadata": {},
   "outputs": [],
   "source": [
    "def minor(x,row,colum):\n",
    "    matrix = []\n",
    "    for i in range (0,len(x)):\n",
    "        if i != row:\n",
    "            keep = []\n",
    "            for j in range(0,len(x[0])):\n",
    "                if j != colum:\n",
    "                    keep.append(x[i][j])\n",
    "            matrix.append(keep)\n",
    "    return matrix"
   ]
  },
  {
   "cell_type": "code",
   "execution_count": 43,
   "metadata": {},
   "outputs": [],
   "source": [
    "def det(a):\n",
    "    d = 0\n",
    "    if len(a) == 1 :return a[0][0]\n",
    "    else:\n",
    "        for c in range(0,len(a)):\n",
    "            temp = minor(a, 0, c)\n",
    "            d = d + (-1)**c * a[0][c] * det(temp)\n",
    "        # end loop\n",
    "        return d\n"
   ]
  },
  {
   "cell_type": "code",
   "execution_count": 44,
   "metadata": {},
   "outputs": [],
   "source": [
    "def minor(a, r, c):\n",
    "    l = len(a)\n",
    "    temp = []\n",
    "    # run loop through colum \n",
    "    for j in range(l):\n",
    "            temp2 = []\n",
    "            # run loop through row\n",
    "            for i in range(len(a[0])):\n",
    "                # cut the row and colum to get minor\n",
    "                if  j != c and i != r :\n",
    "                    temp2.append(a[i][j])\n",
    "                # end if\n",
    "            # end for j\n",
    "            # if temp2 is not empty\n",
    "            if temp2:\n",
    "                temp.append(temp2)\n",
    "        #end if\n",
    "    #end for i\n",
    "    return temp"
   ]
  },
  {
   "cell_type": "code",
   "execution_count": 45,
   "metadata": {},
   "outputs": [],
   "source": [
    "# find complete minor.\n",
    "def find_minor(a):\n",
    "    # normaly we have to check square matrix first.\n",
    "    m = []\n",
    "    for i in range(len(a)):\n",
    "        for j in range(len(a)):\n",
    "            # find det of small minor\n",
    "            x = det(minor(a,i,j))\n",
    "            m.append(x)\n",
    "        # end j loop\n",
    "    # end i loop\n",
    "    # return in 2d matrix.\n",
    "    return numpy.array(m).reshape(len(a),len(a))"
   ]
  },
  {
   "cell_type": "code",
   "execution_count": 46,
   "metadata": {},
   "outputs": [],
   "source": [
    "def cofactor(a):\n",
    "    a = find_minor(a)\n",
    "    for i in range(len(a)):\n",
    "        for j in range(len(a)):\n",
    "            a[i][j] = (-1)**(i+j) * a[i][j]\n",
    "       # end j loop\n",
    "    # end i loop\n",
    "    return a"
   ]
  },
  {
   "cell_type": "code",
   "execution_count": 47,
   "metadata": {},
   "outputs": [],
   "source": [
    "def transpose(a):\n",
    "    rows, colums = len(a),len(a)\n",
    "    temp = numpy.empty((rows,colums),dtype=int)\n",
    "    for i in range(rows):\n",
    "        for j in range(colums):\n",
    "            temp[i][j] = a[j][i]\n",
    "        # end for\n",
    "    # end for\n",
    "    return temp\n"
   ]
  },
  {
   "cell_type": "code",
   "execution_count": 48,
   "metadata": {},
   "outputs": [],
   "source": [
    "def adjoint(a):\n",
    "    return transpose(cofactor(a))"
   ]
  },
  {
   "cell_type": "code",
   "execution_count": 49,
   "metadata": {},
   "outputs": [],
   "source": [
    "def inverse(a):\n",
    "    # normaly check square matrix\n",
    "    # determinate must not equal 0\n",
    "    deter = det(a)\n",
    "    if deter == 0:\n",
    "        return False\n",
    "    else:\n",
    "        inv = []\n",
    "        adj = adjoint(a)\n",
    "        for i in range(len(a)):\n",
    "            temp = []\n",
    "            for j in range(len(a)):\n",
    "                temp.append(adj[i][j] / deter)\n",
    "            # end j loop\n",
    "            inv.append(temp)\n",
    "        # end i loop\n",
    "    return numpy.array(inv)"
   ]
  },
  {
   "cell_type": "code",
   "execution_count": 50,
   "metadata": {},
   "outputs": [
    {
     "ename": "NameError",
     "evalue": "name 'numpy' is not defined",
     "output_type": "error",
     "traceback": [
      "\u001b[1;31m---------------------------------------------------------------------------\u001b[0m",
      "\u001b[1;31mNameError\u001b[0m                                 Traceback (most recent call last)",
      "\u001b[1;32m<ipython-input-50-cd0fdfe246eb>\u001b[0m in \u001b[0;36m<module>\u001b[1;34m\u001b[0m\n\u001b[1;32m----> 1\u001b[1;33m a = numpy.array([\n\u001b[0m\u001b[0;32m      2\u001b[0m     \u001b[1;33m[\u001b[0m\u001b[1;36m3\u001b[0m\u001b[1;33m,\u001b[0m \u001b[1;33m-\u001b[0m\u001b[1;36m2\u001b[0m\u001b[1;33m,\u001b[0m \u001b[1;36m4\u001b[0m\u001b[1;33m]\u001b[0m\u001b[1;33m,\u001b[0m\u001b[1;33m\u001b[0m\u001b[1;33m\u001b[0m\u001b[0m\n\u001b[0;32m      3\u001b[0m     \u001b[1;33m[\u001b[0m\u001b[1;33m-\u001b[0m\u001b[1;36m2\u001b[0m\u001b[1;33m,\u001b[0m \u001b[1;36m6\u001b[0m\u001b[1;33m,\u001b[0m \u001b[1;36m2\u001b[0m\u001b[1;33m]\u001b[0m\u001b[1;33m,\u001b[0m\u001b[1;33m\u001b[0m\u001b[1;33m\u001b[0m\u001b[0m\n\u001b[0;32m      4\u001b[0m     \u001b[1;33m[\u001b[0m\u001b[1;36m4\u001b[0m\u001b[1;33m,\u001b[0m \u001b[1;36m2\u001b[0m\u001b[1;33m,\u001b[0m \u001b[1;36m3\u001b[0m\u001b[1;33m]\u001b[0m\u001b[1;33m,\u001b[0m\u001b[1;33m\u001b[0m\u001b[1;33m\u001b[0m\u001b[0m\n\u001b[0;32m      5\u001b[0m     ])\n",
      "\u001b[1;31mNameError\u001b[0m: name 'numpy' is not defined"
     ]
    }
   ],
   "source": [
    "\n",
    "a = numpy.array([\n",
    "    [3, -2, 4],\n",
    "    [-2, 6, 2],\n",
    "    [4, 2, 3],\n",
    "    ])\n",
    "b = np.matrix([\n",
    "    [3, -2, 4],\n",
    "    [-2, 6, 2],\n",
    "    [4, 2, 3],\n",
    "    ])"
   ]
  },
  {
   "cell_type": "code",
   "execution_count": null,
   "metadata": {},
   "outputs": [],
   "source": [
    "deter(a)"
   ]
  },
  {
   "cell_type": "code",
   "execution_count": null,
   "metadata": {},
   "outputs": [],
   "source": [
    "find_minor(a)"
   ]
  },
  {
   "cell_type": "code",
   "execution_count": null,
   "metadata": {},
   "outputs": [],
   "source": [
    "cofactor(a)"
   ]
  },
  {
   "cell_type": "code",
   "execution_count": null,
   "metadata": {},
   "outputs": [],
   "source": [
    "adjoint(a)"
   ]
  },
  {
   "cell_type": "code",
   "execution_count": null,
   "metadata": {},
   "outputs": [],
   "source": [
    "inverse(a)"
   ]
  },
  {
   "cell_type": "markdown",
   "metadata": {},
   "source": [
    "##  Ex.10\n",
    "### Given a system of linear equations such as this one below, find the solution using inverse matrix, Cramer’s rule, row operation, and Gauss’s Elimination methods"
   ]
  },
  {
   "cell_type": "code",
   "execution_count": null,
   "metadata": {},
   "outputs": [],
   "source": [
    "A = np.matrix([\n",
    "    [1,2,1,-1],\n",
    "    [3/2,1,2,2],\n",
    "    [4,4,3,4],\n",
    "    [2/5,1/5,0,1]\n",
    "])\n",
    "b = np.matrix([\n",
    "    [5],\n",
    "    [8],\n",
    "    [22],\n",
    "    [3]\n",
    "])"
   ]
  },
  {
   "cell_type": "code",
   "execution_count": null,
   "metadata": {},
   "outputs": [],
   "source": [
    "Ab = np.append(A,b,axis=1)"
   ]
  },
  {
   "cell_type": "code",
   "execution_count": null,
   "metadata": {},
   "outputs": [],
   "source": [
    "Ab"
   ]
  },
  {
   "cell_type": "markdown",
   "metadata": {},
   "source": [
    "### inverse matrix"
   ]
  },
  {
   "cell_type": "code",
   "execution_count": null,
   "metadata": {},
   "outputs": [],
   "source": [
    "inverseA = np.linalg.inv(A)"
   ]
  },
  {
   "cell_type": "code",
   "execution_count": null,
   "metadata": {},
   "outputs": [],
   "source": [
    "x = np.dot(inverseA,b)"
   ]
  },
  {
   "cell_type": "code",
   "execution_count": null,
   "metadata": {},
   "outputs": [],
   "source": [
    "x"
   ]
  },
  {
   "cell_type": "markdown",
   "metadata": {},
   "source": [
    "### Gauss’s Elimination methods"
   ]
  },
  {
   "cell_type": "code",
   "execution_count": null,
   "metadata": {},
   "outputs": [],
   "source": [
    "def fwd_elim(Ab):\n",
    "    Abx = Ab.copy()\n",
    "    [nr,nc] = Abx.shape\n",
    "    \n",
    "    for i in range(1,nr):\n",
    "        \n",
    "        for r in range(i,nr):\n",
    "            print('Iteration #{}  index = {}'.format(i,r))\n",
    "            row_factor = Abx[r,i-1]/Abx[i-1,i-1]\n",
    "            Abx[r,:] = Abx[r,:] - Abx[i-1,:]*row_factor\n",
    "        #end for r\n",
    "    #end for i\n",
    "    print(Abx)\n",
    "    return Abx\n",
    "#end fuction"
   ]
  },
  {
   "cell_type": "code",
   "execution_count": null,
   "metadata": {},
   "outputs": [],
   "source": [
    "def back_sub(Ab):\n",
    "    Abx = Ab.copy()\n",
    "    [nr,nc] = Abx.shape\n",
    "    \n",
    "    x = np.empty(nr)\n",
    "    for r in range(nr-1,-1,-1):\n",
    "        print('r = {}'.format(r))\n",
    "        sum_of_product = 0\n",
    "        for i in range(r+1,nr):\n",
    "            print('i = {}'.format(i))\n",
    "            product = Abx[r,i]*x[i]\n",
    "            sum_of_product = sum_of_product + product\n",
    "        #end for\n",
    "        x[r] = (Abx[r,nc-1] - sum_of_product)/Abx[r,r]\n",
    "    \n",
    "    #end for\n",
    "    print(x)\n",
    "    return x\n",
    "#end fuction\n",
    "    "
   ]
  },
  {
   "cell_type": "code",
   "execution_count": null,
   "metadata": {},
   "outputs": [],
   "source": [
    "ab_re = fwd_elim(Ab)"
   ]
  },
  {
   "cell_type": "code",
   "execution_count": null,
   "metadata": {},
   "outputs": [],
   "source": [
    "ab_re2 = back_sub(ab_re)"
   ]
  },
  {
   "cell_type": "code",
   "execution_count": null,
   "metadata": {},
   "outputs": [],
   "source": [
    "def Cramer_rule(A,B):\n",
    "    size = A.shape\n",
    "    ans = np.empty(size[0])\n",
    "    for i in range(size[0]):\n",
    "        ax = A.copy()\n",
    "        ax[:,i] = B\n",
    "        ans[i] = np.linalg.det(ax)/np.linalg.det(A)\n",
    "    print(ans)\n"
   ]
  },
  {
   "cell_type": "code",
   "execution_count": null,
   "metadata": {},
   "outputs": [],
   "source": [
    "Cramer_rule(A,b)"
   ]
  },
  {
   "cell_type": "markdown",
   "metadata": {},
   "source": [
    "### row operation"
   ]
  },
  {
   "cell_type": "code",
   "execution_count": null,
   "metadata": {},
   "outputs": [],
   "source": [
    "A =np.matrix([\n",
    "    [1, 2, 1, -1],\n",
    "    [3/2, 1, 2, 2],\n",
    "    [4, 4, 3, 4],\n",
    "    [2/5, 0, 1/5,1]\n",
    "],dtype=float)\n",
    "B = np.matrix([\n",
    "    [5],\n",
    "    [8],\n",
    "    [22],\n",
    "    [3]\n",
    "],dtype=float)\n",
    "M = np.append(A,B,axis=1)\n",
    "\n",
    "M[1,:] = M[1,:]*2\n",
    "print(M)\n",
    "M[3,:] = M[3,:]*5\n",
    "print(M)\n",
    "eq5 = M[1,:] - (M[0,:]*3)\n",
    "print(eq5)\n",
    "M = np.append(M,eq5,axis=0)\n",
    "print(M)\n",
    "eq6 = M[2,:] - (M[3,:]*2)\n",
    "print(eq6)\n",
    "M = np.append(M,eq6,axis=0)\n",
    "print(M)\n",
    "eq7 = M[5,:] + M[4,:]\n",
    "print(eq7)\n",
    "M = np.append(M,eq7,axis=0)\n",
    "print(M)\n",
    "eq8 = M[3,:] - (M[0,:]*2)\n",
    "print(eq8)\n",
    "M = np.append(M,eq8,axis=0)\n",
    "print(M)\n",
    "eq9 = M[7,:] + M[5,:]\n",
    "print(eq9)\n",
    "M = np.append(M,eq9,axis=0)\n",
    "print(M)\n",
    "eq10 = M[6,:] - M[8,:]\n",
    "eq10 = eq10/2\n",
    "print(eq10)\n",
    "M = np.append(M,eq10,axis=0)\n",
    "print(M)\n",
    "eq11 = M[4,:] - (M[8,:]*7)\n",
    "eq11 = eq11 - M[9,:]\n",
    "eq11 = (-1)*(eq11/4)\n",
    "print(eq11)\n",
    "M = np.append(M,eq11,axis=0)\n",
    "print(M)\n",
    "eq12 = M[0,:] + M[8,:]\n",
    "eq12 = eq12 - M[9,:]\n",
    "eq12 = eq12 - (2*M[10,:])\n",
    "print(eq12)\n",
    "M = np.append(M,eq12,axis=0)\n",
    "print(M)"
   ]
  },
  {
   "cell_type": "markdown",
   "metadata": {},
   "source": [
    "## Ex.11\n",
    "### Write a python program to\n",
    "### a. find the highest point and the time to reach the highest point of a ball throwing like\n",
    "### a projectile motion with the following relationship 𝑦(𝑡) = 𝑦􀯜 + 𝑣􀯜􀯬 𝑡 +1 2 𝑔𝑡􀬶\n",
    "### where 𝑦􀯜 = 10 m, 𝑣􀯜􀯬 = 60 m/s, and 𝑔 = 9.8 m/s2.\n",
    "### b. find the time that the ball will hit the ground (𝑦(𝑡) = 0) again."
   ]
  },
  {
   "cell_type": "code",
   "execution_count": null,
   "metadata": {},
   "outputs": [],
   "source": [
    "import matplotlib.pyplot as plt\n",
    "import numpy as np"
   ]
  },
  {
   "cell_type": "code",
   "execution_count": null,
   "metadata": {},
   "outputs": [],
   "source": [
    "def f(t):\n",
    "    return 10+(60*t)+((1/2)*-9.8*(t**2))"
   ]
  },
  {
   "cell_type": "code",
   "execution_count": null,
   "metadata": {},
   "outputs": [],
   "source": [
    "x = np.arange(0,13.5,0.1)\n",
    "y = f(x)"
   ]
  },
  {
   "cell_type": "code",
   "execution_count": null,
   "metadata": {},
   "outputs": [],
   "source": [
    "plt.plot(x,y)\n",
    "plt.grid()\n",
    "plt.show()"
   ]
  },
  {
   "cell_type": "code",
   "execution_count": null,
   "metadata": {},
   "outputs": [],
   "source": [
    "def bisection(l, u):\n",
    "    xl = l\n",
    "    xu = u\n",
    "    xr = 0\n",
    "    es = 0.5*pow(10, 2-4)\n",
    "    prev_xr = 0\n",
    "    ea = 100\n",
    "    while ea > es:\n",
    "        mid = (xl+xu)/2\n",
    "        if f(xl)*f(mid) < 0:\n",
    "            xu = mid\n",
    "        else:\n",
    "            xl = mid\n",
    "        xr = (xl+xu)/2\n",
    "        # print('found root in ({},{}) = {}'.format(xl, xu, xr))\n",
    "           \n",
    "        ea = abs((xr-prev_xr)/xr) * 100\n",
    "        prev_xr = xr\n",
    "        # print('approxmate error =',ea)\n",
    "    print('found root in [{},{}] xr = {}'.format(xl, xu, xr))\n",
    "    print('approxmate error =',ea)\n",
    "    return xr"
   ]
  },
  {
   "cell_type": "code",
   "execution_count": null,
   "metadata": {},
   "outputs": [],
   "source": [
    "hit_ground = bisection(12,14)\n",
    "# 12 กับ 14 มาจากการดูกราฟช่วงนี้ กราฟตัดแกน x ที่ y=0"
   ]
  },
  {
   "cell_type": "code",
   "execution_count": null,
   "metadata": {},
   "outputs": [],
   "source": [
    "def parabolic_max(f,x1,x2,x3,p):\n",
    "    es = 0.5*(10**(2-p))\n",
    "    ea = 100\n",
    "    prev_xmax = x2\n",
    "    i = 1\n",
    "    while(ea>es):\n",
    "        alpha1 = (x2-x1)*(x2-x1)*(f(x2)-f(x3))\n",
    "        alpha2 = (x2-x3)*(x2-x3)*(f(x2)-f(x1))\n",
    "        beta1 = (x2-x1)*(f(x2)-f(x3))\n",
    "        beta2 = (x2-x3)*(f(x2)-f(x1))\n",
    "        gamma = (alpha1 - alpha2)/(beta1 - beta2)\n",
    "        x4 = x2 - (0.5 * gamma)\n",
    "       \n",
    "        if(x4<2):\n",
    "            #[x1,x2,x3] = [x1,x4,x2]\n",
    "            x3 = x2\n",
    "            x2 = x4\n",
    "            xmax = x4\n",
    "        else:\n",
    "            #[x1,x2,x3] = [x2,x4,x3]\n",
    "            x1 = x2\n",
    "            x2 = x4\n",
    "            xmax = x4\n",
    "        #end if\n",
    "        ea = abs((xmax - prev_xmax)/xmax) * 100\n",
    "        print('Iteration #{}: [x1,x2,x3] = [{},{},{}] , xmax = {} , ea = {}'.format(i,x1,x2,x3,xmax,ea))\n",
    "        prev_xmax = xmax\n",
    "        i +=1\n",
    "    #end while\n",
    "    return xmax\n",
    "#end function"
   ]
  },
  {
   "cell_type": "code",
   "execution_count": null,
   "metadata": {},
   "outputs": [],
   "source": [
    "xmax = parabolic_max(f,0,6,12,5)"
   ]
  },
  {
   "cell_type": "code",
   "execution_count": null,
   "metadata": {},
   "outputs": [],
   "source": [
    "f(xmax) # บอลขึ้นได้สูงสุด 193.67 m"
   ]
  },
  {
   "cell_type": "code",
   "execution_count": null,
   "metadata": {},
   "outputs": [],
   "source": [
    "hit_ground # บอลจะตกถึงพื้นเมื่อ t=12.40966..."
   ]
  },
  {
   "cell_type": "markdown",
   "metadata": {},
   "source": [
    "## Ex.12"
   ]
  },
  {
   "cell_type": "code",
   "execution_count": 51,
   "metadata": {},
   "outputs": [
    {
     "name": "stdout",
     "output_type": "stream",
     "text": [
      "The student is 69\n"
     ]
    }
   ],
   "source": [
    "x = 1\n",
    "while(70000*2*x <= 500000*12 + 40000*x + 12*20000*(x/20)):\n",
    "    x+=1\n",
    "print('The student is {}'.format(x))"
   ]
  },
  {
   "cell_type": "markdown",
   "metadata": {},
   "source": [
    "## Ex.13"
   ]
  },
  {
   "cell_type": "code",
   "execution_count": 52,
   "metadata": {},
   "outputs": [
    {
     "name": "stdout",
     "output_type": "stream",
     "text": [
      "Customer used Energy: 1\n",
      "Customer used Energy           :      1.00    KWh/Month\n",
      "Ft                             :    -12.43    Satang/KWh\n",
      "======================================================\n",
      "Free บ้านคุนพี่จุดเทียนหรอค่ะ\n"
     ]
    }
   ],
   "source": [
    "# ทศนิยมมันเพ้ียนๆ คิดแบบผสม(binocalculate) รุ้จักป่าว55555\n",
    "useg = float(input('Customer used Energy: '))  #kw\n",
    "Ft = -12.43 # s/kw\n",
    "sum = 0\n",
    "charge = (useg*Ft)/100 #bath\n",
    "print('Customer used Energy           :   {:7.2f}    KWh/Month'.format(useg))\n",
    "print('Ft                             :   {:7.2f}    Satang/KWh'.format(Ft))\n",
    "print(\"======================================================\")\n",
    "if useg<=50:\n",
    "    print('Free บ้านคุนพี่จุดเทียนหรอค่ะ')\n",
    "    \n",
    "else:\n",
    "    print('Section 1 Base Tariff')\n",
    "    print('First 15 kWh ( 1st – 15th)     :   {:7.2f}    Bath'.format(35.23))\n",
    "    print('Next  10 kWh (16th – 15th)     :   {:7.2f}    Bath'.format(29.88))\n",
    "    print('Next  10 kWh (26th – 35th)     :   {:7.2f}    Bath'.format(32.41))\n",
    "    if useg>=36 and useg<100:\n",
    "        sum = (useg-35)*3.6237+32.41+29.88+35.23\n",
    "        print('Next  65 kWh (36th – 100th)    :   {:7.2f}    Bath'.format(sum))\n",
    "    elif useg>=101 and useg<150:\n",
    "        sum = 235.54\n",
    "        print('Next  65 kWh (36th – 100th)    :    {:7.2f}   Bath'.format(sum))\n",
    "        sum = (useg-100)*3.7171+235.54+32.41+29.88+35.23\n",
    "        print('Next  50 kWh (101th – 150th)   :    {:7.2f}   Bath'.format(sum))\n",
    "    elif useg>=151 and useg<400:\n",
    "        sum = 235.54\n",
    "        print('Next  65 kWh (36th – 100th)    :    {:7.2f}   Bath'.format(sum))\n",
    "        sum = 185.86\n",
    "        print('Next  50 kWh (101th – 150th)   :    {:7.2f}   Bath'.format(sum))\n",
    "        sum = (useg-150)*4.2218+185.56+235.54+32.41+29.88+35.23\n",
    "        print('Next  250 kWh (151th – 400th)  :   {:7.2f}   Bath'.format(sum))\n",
    "    elif  useg>=401:\n",
    "        sum = 235.54\n",
    "        print('Next  65 kWh (36th – 100th)    :    {:7.2f}   Bath'.format(sum))\n",
    "        sum = 185.86\n",
    "        print('Next  50 kWh (101th – 150th)   :    {:7.2f}   Bath'.format(sum))\n",
    "        sum = 1055.45\n",
    "        print('Next  250 kWh (151th – 400th)  :   {:7.2f}   Bath'.format(sum))\n",
    "        x = useg%400\n",
    "        sum = (useg-400)*4.4217+1055.45+185.56+235.54+32.41+29.88+35.23\n",
    "        print('Over  400 kWh (up from 401st)  :   {:7.2f}    Bath'.format((useg-400)*4.4217))\n",
    "    \n",
    "    print(\"======================================================\")\n",
    "    print('Total                          :   {:7.2f}    Bath'.format(sum))\n",
    "    print('Service Charge                 :   {:7.2f}    Bath'.format(8.19))\n",
    "    print()\n",
    "    print('Total Base Tariff              :   {:7.2f}    Bath'.format(sum+8.19))\n",
    "    print(\"======================================================\")\n",
    "    print('Section 2 [Ft] Charge')\n",
    "    print('Used Energy x Ftrate           :   {:7.2f}    Bath'.format((useg*Ft)/100))\n",
    "    print()\n",
    "    print(\"======================================================\")\n",
    "    print('Section 3 Tax 7%')\n",
    "    print('|Base Tariff + Ft| x 0.07      :   {:7.2f}    Bath'.format( (((sum+8.19)+(useg*Ft)/100))*0.07) )\n",
    "    print()\n",
    "    print('Total Electricity Charge       :   {:7.2f}    Bath'.format(+((sum+8.19) + ((useg*Ft)/100)) + (((sum+8.19)+(useg*Ft)/100))*0.07))\n",
    "    print(\"======================================================\")"
   ]
  },
  {
   "cell_type": "markdown",
   "metadata": {},
   "source": [
    "## Ex.14"
   ]
  },
  {
   "cell_type": "code",
   "execution_count": null,
   "metadata": {},
   "outputs": [],
   "source": [
    "def find_int_rate_month(int_rate, car_loan, n_year):\n",
    "    interest = int_rate/100*car_loan\n",
    "    interest *= n_year/(n_year*12)\n",
    "    return interest\n",
    "\n",
    "def find_prin_paid(salary, re_amount):\n",
    "    prin_paid = salary*(re_amount/100)\n",
    "    return prin_paid\n",
    "\n",
    "def find_prin_left(total_paid, paid_month, n_year):\n",
    "    prin_left = total_paid-(paid_month*n_year*12)\n",
    "    return prin_left\n",
    "\n",
    "paid_month = 1\n",
    "n_year = 1\n",
    "total_paid = 0\n",
    "\n",
    "while(paid_month*n_year*12>total_paid):\n",
    "    car_price = int(input('Input car price : '))\n",
    "    int_rate = int(input('Input annual interested rate : '))\n",
    "    n_year = int(input('Input number of year payment : '))\n",
    "    down = int(input('Input down payment percentage : '))\n",
    "    re_amount = int(input('Input repayment amount in percentage : '))\n",
    "    salary = int(input('Input your salary : '))\n",
    "    down_money = car_price*down/100\n",
    "    car_loan = car_price-down_money\n",
    "    \n",
    "    int_paid = find_int_rate_month(int_rate, car_loan, n_year)\n",
    "    \n",
    "    paid_month = find_prin_paid(salary, re_amount)\n",
    "    \n",
    "    total_paid = car_loan+(int_paid*n_year*12)\n",
    "    \n",
    "    prin_left = find_prin_left(total_paid, paid_month, n_year)\n",
    "    print(paid_month*n_year*12, total_paid)\n",
    "    \n",
    "    if paid_month*n_year*12>total_paid:\n",
    "        print('Sorry your paid per month is over total price.')\n",
    "        print('Please re-enter the information.')\n",
    "    \n",
    "print('interest paid per month : {} Baht'.format(int_paid))\n",
    "print('Principle paid per month : {} Baht'.format(paid_month))\n",
    "print('Principle left : {} Baht'.format(prin_left))"
   ]
  },
  {
   "cell_type": "code",
   "execution_count": null,
   "metadata": {},
   "outputs": [],
   "source": []
  }
 ],
 "metadata": {
  "kernelspec": {
   "display_name": "Python 3",
   "language": "python",
   "name": "python3"
  },
  "language_info": {
   "codemirror_mode": {
    "name": "ipython",
    "version": 3
   },
   "file_extension": ".py",
   "mimetype": "text/x-python",
   "name": "python",
   "nbconvert_exporter": "python",
   "pygments_lexer": "ipython3",
   "version": "3.8.3"
  }
 },
 "nbformat": 4,
 "nbformat_minor": 4
}
