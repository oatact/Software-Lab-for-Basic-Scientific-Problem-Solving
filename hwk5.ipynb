{
 "cells": [
  {
   "cell_type": "code",
   "execution_count": 1,
   "metadata": {},
   "outputs": [],
   "source": [
    "import numpy as np\n",
    "import math"
   ]
  },
  {
   "cell_type": "markdown",
   "metadata": {},
   "source": [
    "## Task1"
   ]
  },
  {
   "cell_type": "code",
   "execution_count": 33,
   "metadata": {},
   "outputs": [],
   "source": [
    "def f(x):\n",
    "    return x*(1-x)*math.e**(x)\n",
    "#end fuunction"
   ]
  },
  {
   "cell_type": "code",
   "execution_count": 34,
   "metadata": {},
   "outputs": [],
   "source": [
    "def interval_search_max(f,a,b,p):\n",
    "    es = 0.5*(10**(2-p))\n",
    "    ea = 100\n",
    "    prev_xmax = b\n",
    "    \n",
    "    i=1\n",
    "    while(ea>es):\n",
    "        epsilon = (b-a)/10\n",
    "        xmid  = (a+b)/2\n",
    "        alpha = xmid-(epsilon/2)\n",
    "        beta = xmid+(epsilon/2)\n",
    "        if (f(beta) > f(alpha)):\n",
    "            #[a,b] = [aplha,b]\n",
    "            a = alpha\n",
    "            #b=b\n",
    "            xmax = (a+b)/2\n",
    "        else:\n",
    "            #[a,b] = [a,beta]\n",
    "            #a=a\n",
    "            b=beta\n",
    "            xmax = (a+b)/2\n",
    "        #end if\n",
    "        ea = abs((xmax-prev_xmax)/xmax) * 100\n",
    "        print('Iteration #{}: [a,b] = [{},{}] , xmax = {} , ea = {}'.format(i,a,b,xmax,ea))\n",
    "        prev_xmax = xmax\n",
    "        i= i+1\n",
    "    #end while\n",
    "#end function"
   ]
  },
  {
   "cell_type": "code",
   "execution_count": 35,
   "metadata": {},
   "outputs": [
    {
     "name": "stdout",
     "output_type": "stream",
     "text": [
      "Iteration #1: [a,b] = [0,1.1] , xmax = 0.55 , ea = 263.6363636363636\n",
      "Iteration #2: [a,b] = [0.49500000000000005,1.1] , xmax = 0.7975000000000001 , ea = 31.03448275862069\n",
      "Iteration #3: [a,b] = [0.49500000000000005,0.8277500000000001] , xmax = 0.661375 , ea = 20.582120582120588\n",
      "Iteration #4: [a,b] = [0.49500000000000005,0.6780125] , xmax = 0.58650625 , ea = 12.76520923690072\n",
      "Iteration #5: [a,b] = [0.577355625,0.6780125] , xmax = 0.6276840625 , ea = 6.560276890892059\n",
      "Iteration #6: [a,b] = [0.577355625,0.63271690625] , xmax = 0.605036265625 , ea = 3.7432131198953633\n",
      "Iteration #7: [a,b] = [0.6022682015625,0.63271690625] , xmax = 0.61749255390625 , ea = 2.0172370018798906\n",
      "Iteration #8: [a,b] = [0.615970118671875,0.63271690625] , xmax = 0.6243435124609376 , ea = 1.0973059570497534\n",
      "Iteration #9: [a,b] = [0.615970118671875,0.6251808518398438] , xmax = 0.6205754852558594 , ea = 0.6071827351550392\n",
      "Iteration #10: [a,b] = [0.615970118671875,0.6210360219142578] , xmax = 0.6185030702930664 , ea = 0.3350694705219495\n",
      "Iteration #11: [a,b] = [0.615970118671875,0.6187563654551855] , xmax = 0.6173632420635302 , ea = 0.18462845726388136\n",
      "Iteration #12: [a,b] = [0.6172239297243647,0.6187563654551855] , xmax = 0.6179901475897751 , ea = 0.10144264090453346\n",
      "Iteration #13: [a,b] = [0.6179135258032341,0.6187563654551855] , xmax = 0.6183349456292098 , ea = 0.055762340762383275\n",
      "Iteration #14: [a,b] = [0.6179135258032341,0.6183770876118073] , xmax = 0.6181453067075207 , ea = 0.03067869635688017\n",
      "Iteration #15: [a,b] = [0.6179135258032341,0.6181684847979493] , xmax = 0.6180410053005917 , ea = 0.01687613055354403\n",
      "Iteration #16: [a,b] = [0.6179135258032341,0.6180537532503274] , xmax = 0.6179836395267808 , ea = 0.009282733415856741\n",
      "Iteration #17: [a,b] = [0.6179766281544261,0.6180537532503274] , xmax = 0.6180151907023768 , ea = 0.005105242730374829\n",
      "Iteration #18: [a,b] = [0.6180113344475817,0.6180537532503274] , xmax = 0.6180325438489546 , ea = 0.0028078046618276852\n"
     ]
    }
   ],
   "source": [
    "a = 0\n",
    "b = 2\n",
    "p = 4\n",
    "interval_search_max(f,a,b,p )"
   ]
  },
  {
   "cell_type": "markdown",
   "metadata": {},
   "source": [
    "## Task2"
   ]
  },
  {
   "cell_type": "code",
   "execution_count": 5,
   "metadata": {},
   "outputs": [],
   "source": [
    "def f2(x):\n",
    "    return x**(5) - 3*x**(4) + 5\n",
    "#end fuunction"
   ]
  },
  {
   "cell_type": "code",
   "execution_count": 36,
   "metadata": {},
   "outputs": [],
   "source": [
    "def interval_search_min(f,a,b,p):\n",
    "    es = 0.5*(10**(2-p))\n",
    "    ea = 100\n",
    "    prev_xmin = b\n",
    "    \n",
    "    i=1\n",
    "    while(ea>es):\n",
    "        epsilon = 0.1\n",
    "        xmid  = (a+b)/2\n",
    "        alpha = xmid-(epsilon/2)\n",
    "        beta = xmid+(epsilon/2)\n",
    "        if (f2(beta) < f2(alpha)):\n",
    "            #[a,b] = [aplha,b]\n",
    "            a = alpha\n",
    "            #b=b\n",
    "            xmin = (a+b)/2\n",
    "        else:\n",
    "            #[a,b] = [a,beta]\n",
    "            #a=a\n",
    "            b=beta\n",
    "            xmin = (a+b)/2\n",
    "        #end if\n",
    "        ea = abs((xmin-prev_xmin)/xmin) * 100\n",
    "        print('Iteration #{}: [a,b] = [{},{}] , xmin = {} , ea = {}'.format(i,a,b,xmin,ea))\n",
    "        prev_xmin = xmin\n",
    "        i= i+1\n",
    "    #end while\n",
    "#end function"
   ]
  },
  {
   "cell_type": "code",
   "execution_count": 37,
   "metadata": {},
   "outputs": [
    {
     "name": "stdout",
     "output_type": "stream",
     "text": [
      "Iteration #1: [a,b] = [1.95,4] , xmin = 2.975 , ea = 34.45378151260503\n",
      "Iteration #2: [a,b] = [1.95,3.025] , xmin = 2.4875 , ea = 19.597989949748758\n",
      "Iteration #3: [a,b] = [1.95,2.5374999999999996] , xmin = 2.24375 , ea = 10.863509749303619\n",
      "Iteration #4: [a,b] = [2.19375,2.5374999999999996] , xmin = 2.3656249999999996 , ea = 5.151915455746357\n",
      "Iteration #5: [a,b] = [2.315625,2.5374999999999996] , xmin = 2.4265624999999997 , ea = 2.5112685125563465\n",
      "Iteration #6: [a,b] = [2.315625,2.4765624999999996] , xmin = 2.3960937499999995 , ea = 1.2716009129442567\n",
      "Iteration #7: [a,b] = [2.3460937499999996,2.4765624999999996] , xmin = 2.411328125 , ea = 0.6317835736271005\n",
      "Iteration #8: [a,b] = [2.3460937499999996,2.4613281249999996] , xmin = 2.4037109374999996 , ea = 0.31689282522142614\n",
      "Iteration #9: [a,b] = [2.3460937499999996,2.4537109374999995] , xmin = 2.3999023437499996 , ea = 0.15869786368260802\n",
      "Iteration #10: [a,b] = [2.3460937499999996,2.4499023437499994] , xmin = 2.3979980468749993 , ea = 0.079411944370926\n",
      "Iteration #11: [a,b] = [2.3479980468749995,2.4499023437499994] , xmin = 2.3989501953124996 , ea = 0.03969021280061729\n",
      "Iteration #12: [a,b] = [2.3489501953125,2.4499023437499994] , xmin = 2.39942626953125 , ea = 0.01984116889922953\n",
      "Iteration #13: [a,b] = [2.3489501953125,2.4494262695312496] , xmin = 2.3991882324218747 , ea = 0.009921568727219075\n",
      "Iteration #14: [a,b] = [2.3489501953125,2.4491882324218746] , xmin = 2.399069213867187 , ea = 0.004961030469642605\n"
     ]
    }
   ],
   "source": [
    "a = 0\n",
    "b = 4\n",
    "p = 4\n",
    "interval_search_min(f2,a,b,p )"
   ]
  },
  {
   "cell_type": "markdown",
   "metadata": {},
   "source": [
    "## Task3"
   ]
  },
  {
   "cell_type": "code",
   "execution_count": 8,
   "metadata": {},
   "outputs": [],
   "source": [
    "def f3(x):\n",
    "    return x**(5) - 3*x**(4) + 5\n",
    "#end fuunction"
   ]
  },
  {
   "cell_type": "code",
   "execution_count": 9,
   "metadata": {},
   "outputs": [],
   "source": [
    "def golden_min(f,xl,xu,p):\n",
    "    es  = 0.5 * (10**(2-p))\n",
    "    ea = 100\n",
    "    #prev_xmin = xu\n",
    "    i=1\n",
    "    phi = (1+math.sqrt(5))/2\n",
    "    \n",
    "    while (ea>es):\n",
    "        d = (phi-1)*(xu - xl)\n",
    "        x1 = xl + d\n",
    "        x2 = xu - d\n",
    "        if(f3(x1)>f3(x2)):\n",
    "            #[xl,xu] = [xl,x1]\n",
    "            xu = x1\n",
    "            xmin = x2\n",
    "        else:\n",
    "            #[xl,xu] = [x2,xl]\n",
    "            #xu=xu\n",
    "            xl = x2\n",
    "            xmin = x1\n",
    "        #end if\n",
    "        ea = (2 - phi)*abs((xu-xl)/xmin)*100\n",
    "        print('Iteration #{}: [xl,xu] = [{},{}] , xmin = {} , ea = {}'.format(i,xl,xu,xmin,ea))\n",
    "        i +=1\n",
    "    #end while\n",
    "#end function"
   ]
  },
  {
   "cell_type": "code",
   "execution_count": 10,
   "metadata": {},
   "outputs": [
    {
     "name": "stdout",
     "output_type": "stream",
     "text": [
      "Iteration #1: [xl,xu] = [1.5278640450004204,4] , xmin = 2.4721359549995796 , ea = 38.19660112501051\n",
      "Iteration #2: [xl,xu] = [1.5278640450004204,3.0557280900008412] , xmin = 2.472135954999579 , ea = 23.606797749978973\n",
      "Iteration #3: [xl,xu] = [2.1114561800016824,3.0557280900008412] , xmin = 2.4721359549995796 , ea = 14.58980337503154\n",
      "Iteration #4: [xl,xu] = [2.1114561800016824,2.6950483150029445] , xmin = 2.4721359549995796 , ea = 9.016994374947426\n",
      "Iteration #5: [xl,xu] = [2.1114561800016824,2.4721359549995796] , xmin = 2.3343685400050473 , ea = 5.901699437494744\n",
      "Iteration #6: [xl,xu] = [2.2492235949962147,2.4721359549995796] , xmin = 2.3343685400050473 , ea = 3.6474508437578863\n",
      "Iteration #7: [xl,xu] = [2.3343685400050473,2.4721359549995796] , xmin = 2.386991009990747 , ea = 2.204552500007254\n",
      "Iteration #8: [xl,xu] = [2.3343685400050473,2.41951348501388] , xmin = 2.386991009990747 , ea = 1.362488374988032\n",
      "Iteration #9: [xl,xu] = [2.366891015028181,2.41951348501388] , xmin = 2.3869910099907465 , ea = 0.8420641250192148\n",
      "Iteration #10: [xl,xu] = [2.3869910099907465,2.41951348501388] , xmin = 2.399413490051314 , ea = 0.517729858237222\n",
      "Iteration #11: [xl,xu] = [2.3869910099907465,2.4070910049533127] , xmin = 2.3994134900513138 , ea = 0.3199746493812714\n",
      "Iteration #12: [xl,xu] = [2.394668524892745,2.4070910049533127] , xmin = 2.399413490051314 , ea = 0.19775520885595763\n",
      "Iteration #13: [xl,xu] = [2.394668524892745,2.4023460397947436] , xmin = 2.399413490051314 , ea = 0.12221944052531368\n",
      "Iteration #14: [xl,xu] = [2.397601074636175,2.4023460397947436] , xmin = 2.3994134900513138 , ea = 0.07553576833063691\n",
      "Iteration #15: [xl,xu] = [2.399413490051314,2.4023460397947436] , xmin = 2.4005336243796043 , ea = 0.04666188871150379\n",
      "Iteration #16: [xl,xu] = [2.399413490051314,2.4012259054664535] , xmin = 2.4005336243796043 , ea = 0.028838633202977294\n",
      "Iteration #17: [xl,xu] = [2.399413490051314,2.4005336243796047] , xmin = 2.400105771138163 , ea = 0.017826432759192292\n",
      "Iteration #18: [xl,xu] = [2.3998413432927554,2.4005336243796047] , xmin = 2.4001057711381635 , ea = 0.011017341343348658\n",
      "Iteration #19: [xl,xu] = [2.3998413432927554,2.400269196534197] , xmin = 2.400105771138163 , ea = 0.006809091415850701\n",
      "Iteration #20: [xl,xu] = [2.3998413432927554,2.400105771138163] , xmin = 2.4000047686887895 , ea = 0.004208427028625341\n"
     ]
    }
   ],
   "source": [
    "xl = 0\n",
    "xu = 4\n",
    "p = 4\n",
    "golden_min(f3,xl,xu,p)"
   ]
  },
  {
   "cell_type": "markdown",
   "metadata": {},
   "source": [
    "## Task4"
   ]
  },
  {
   "cell_type": "code",
   "execution_count": 11,
   "metadata": {},
   "outputs": [],
   "source": [
    "def f4(x):\n",
    "    return x*(1-x)*math.e**(x)\n",
    "#end fuunction"
   ]
  },
  {
   "cell_type": "code",
   "execution_count": 12,
   "metadata": {},
   "outputs": [],
   "source": [
    "def golden_max(f4,xl,xu,p):\n",
    "    es  = 0.5 * (10**(2-p))\n",
    "    ea = 100\n",
    "    #prev_xmin = xu\n",
    "    i=1\n",
    "    phi = (1+math.sqrt(5))/2\n",
    "    \n",
    "    while (ea>es):\n",
    "        d = (phi-1)*(xu - xl)\n",
    "        x1 = xl + d\n",
    "        x2 = xu - d\n",
    "        if(f4(x1)<f4(x2)):\n",
    "            #[xl,xu] = [xl,x1]\n",
    "            xu = x1\n",
    "            xmax = x2\n",
    "        else:\n",
    "            #[xl,xu] = [x2,xl]\n",
    "            #xu=xu\n",
    "            xl = x2\n",
    "            xmax = x1\n",
    "        #end if\n",
    "        ea = (2 - phi)*abs((xu-xl)/xmax)*100\n",
    "        print('Iteration #{}: [xl,xu] = [{},{}] , xmax = {} , ea = {}'.format(i,xl,xu,xmax,ea))\n",
    "        i +=1\n",
    "    #end while"
   ]
  },
  {
   "cell_type": "code",
   "execution_count": 13,
   "metadata": {},
   "outputs": [
    {
     "name": "stdout",
     "output_type": "stream",
     "text": [
      "Iteration #1: [xl,xu] = [0,2.4721359549995796] , xmax = 1.5278640450004204 , ea = 61.80339887498949\n",
      "Iteration #2: [xl,xu] = [0,1.5278640450004208] , xmax = 0.9442719099991588 , ea = 61.80339887498949\n",
      "Iteration #3: [xl,xu] = [0,0.944271909999159] , xmax = 0.5835921350012618 , ea = 61.80339887498949\n",
      "Iteration #4: [xl,xu] = [0.36067977499789694,0.944271909999159] , xmax = 0.5835921350012621 , ea = 38.19660112501051\n",
      "Iteration #5: [xl,xu] = [0.36067977499789694,0.7213595499957941] , xmax = 0.5835921350012618 , ea = 23.606797749978977\n",
      "Iteration #6: [xl,xu] = [0.4984471899924291,0.7213595499957941] , xmax = 0.583592135001262 , ea = 14.589803375031549\n",
      "Iteration #7: [xl,xu] = [0.5835921350012618,0.7213595499957941] , xmax = 0.6362146049869613 , ea = 8.271182329550243\n",
      "Iteration #8: [xl,xu] = [0.5835921350012618,0.6687370800100947] , xmax = 0.6362146049869613 , ea = 5.1118718068095825\n",
      "Iteration #9: [xl,xu] = [0.5835921350012618,0.6362146049869613] , xmax = 0.6161146100243953 , ea = 3.2623792124926423\n",
      "Iteration #10: [xl,xu] = [0.6036921299638278,0.6362146049869613] , xmax = 0.6161146100243953 , ea = 2.0162612375115687\n",
      "Iteration #11: [xl,xu] = [0.6036921299638278,0.6237921249263938] , xmax = 0.6161146100243953 , ea = 1.2461179749810736\n",
      "Iteration #12: [xl,xu] = [0.6113696448658263,0.6237921249263938] , xmax = 0.6161146100243953 , ea = 0.7701432625304949\n",
      "Iteration #13: [xl,xu] = [0.6161146100243953,0.6237921249263938] , xmax = 0.6190471597678249 , ea = 0.47371992539784513\n",
      "Iteration #14: [xl,xu] = [0.6161146100243953,0.6208595751829642] , xmax = 0.6190471597678249 , ea = 0.29277501504393394\n",
      "Iteration #15: [xl,xu] = [0.6161146100243953,0.6190471597678249] , xmax = 0.6179270254395346 , ea = 0.1812729144664885\n",
      "Iteration #16: [xl,xu] = [0.6172347443526855,0.6190471597678249] , xmax = 0.6179270254395346 , ea = 0.11203282238004522\n",
      "Iteration #17: [xl,xu] = [0.6172347443526855,0.6183548786809759] , xmax = 0.6179270254395345 , ea = 0.06924009208645016\n",
      "Iteration #18: [xl,xu] = [0.6176625975941269,0.6183548786809759] , xmax = 0.6179270254395346 , ea = 0.042792730293601956\n",
      "Iteration #19: [xl,xu] = [0.6179270254395345,0.6183548786809759] , xmax = 0.6180904508355684 , ea = 0.026440369012802858\n",
      "Iteration #20: [xl,xu] = [0.6179270254395345,0.6181914532849421] , xmax = 0.6180904508355684 , ea = 0.016341046724998826\n",
      "Iteration #21: [xl,xu] = [0.6179270254395345,0.6180904508355682] , xmax = 0.6180280278889083 , ea = 0.010100342353923668\n",
      "Iteration #22: [xl,xu] = [0.6179894483861945,0.6180904508355682] , xmax = 0.6180280278889082 , ea = 0.006242354872731736\n",
      "Iteration #23: [xl,xu] = [0.6179894483861945,0.6180518713328544] , xmax = 0.6180280278889083 , ea = 0.0038579874811850716\n"
     ]
    }
   ],
   "source": [
    "xl = 0\n",
    "xu = 4\n",
    "p = 4\n",
    "golden_max(f4,xl,xu,p)"
   ]
  },
  {
   "cell_type": "markdown",
   "metadata": {},
   "source": [
    "## Task5"
   ]
  },
  {
   "cell_type": "code",
   "execution_count": 14,
   "metadata": {},
   "outputs": [],
   "source": [
    "def f5(x):\n",
    "    return x**(5) - 3*x**(4) + 5\n",
    "#end fuunction"
   ]
  },
  {
   "cell_type": "code",
   "execution_count": 15,
   "metadata": {},
   "outputs": [],
   "source": [
    "def parabolic_min(f5,x1,x2,x3,p):\n",
    "    es = 0.5*(10**(2-p))\n",
    "    ea = 100\n",
    "    prev_xmin = x2\n",
    "    i = 1\n",
    "    while(ea>es):\n",
    "        alpha1 = (x2-x1)*(x2-x1)*(f5(x2)-f5(x3))\n",
    "        alpha2 = (x2-x3)*(x2-x3)*(f5(x2)-f5(x1))\n",
    "        beta1 = (x2-x1)*(f5(x2)-f5(x3))\n",
    "        beta2 = (x2-x3)*(f5(x2)-f5(x1))\n",
    "        gamma = (alpha1 - alpha2)/(beta1 - beta2)\n",
    "        x4 = x2 - (0.5 * gamma)\n",
    "       \n",
    "        if(x4>x2):\n",
    "            \n",
    "            x1 = x2\n",
    "            x2 = x4\n",
    "            xmin = x4\n",
    "        else:\n",
    "           \n",
    "            x3 = x2\n",
    "            x2 = x4\n",
    "            xmin = x4\n",
    "        #end if\n",
    "        ea = abs((xmin - prev_xmin)/xmin) * 100\n",
    "        print('Iteration #{}: [x1,x2,x3] = [{},{},{}] , xmin = {} , ea = {}'.format(i,x1,x2,x3,xmin,ea))\n",
    "        prev_xmin = xmin\n",
    "        i +=1\n",
    "    #end while\n",
    "#end function"
   ]
  },
  {
   "cell_type": "code",
   "execution_count": 28,
   "metadata": {},
   "outputs": [
    {
     "name": "stdout",
     "output_type": "stream",
     "text": [
      "Iteration #1: [x1,x2,x3] = [2.3024999999999998,2.3954879546637464,2.5] , xmin = 2.3954879546637464 , ea = 3.8817959607231387\n",
      "Iteration #2: [x1,x2,x3] = [2.3954879546637464,2.395931776337697,2.5] , xmin = 2.395931776337697 , ea = 0.018523969602707566\n",
      "Iteration #3: [x1,x2,x3] = [2.395931776337697,2.399666039735657,2.5] , xmin = 2.399666039735657 , ea = 0.15561596222661775\n",
      "Iteration #4: [x1,x2,x3] = [2.399666039735657,2.399825908340766,2.5] , xmin = 2.399825908340766 , ea = 0.006661675105413175\n",
      "Iteration #5: [x1,x2,x3] = [2.399825908340766,2.399979908346861,2.5] , xmin = 2.399979908346861 , ea = 0.0064167206383393075\n",
      "Iteration #6: [x1,x2,x3] = [2.399979908346861,2.3999923147235513,2.5] , xmin = 2.3999923147235513 , ea = 0.000516934017426239\n"
     ]
    }
   ],
   "source": [
    "x1= 2.3\n",
    "x2 = 2.3+2.5/1000\n",
    "x3 = 2.5\n",
    "p = 4\n",
    "parabolic_min(f5,x1,x2,x3,p)"
   ]
  },
  {
   "cell_type": "markdown",
   "metadata": {},
   "source": [
    "## Task 6"
   ]
  },
  {
   "cell_type": "code",
   "execution_count": 24,
   "metadata": {},
   "outputs": [],
   "source": [
    "def f6(x):\n",
    "    return x*(1-x)*math.e**(x)\n",
    "#end fuunction"
   ]
  },
  {
   "cell_type": "code",
   "execution_count": 25,
   "metadata": {},
   "outputs": [],
   "source": [
    "def parabolic_max(f5,x1,x2,x3,p):\n",
    "    es = 0.5*(10**(2-p))\n",
    "    ea = 100\n",
    "    prev_xmax = x2\n",
    "    i = 1\n",
    "    while(ea>es):\n",
    "        alpha1 = (x2-x1)*(x2-x1)*(f6(x2)-f6(x3))\n",
    "        alpha2 = (x2-x3)*(x2-x3)*(f6(x2)-f6(x1))\n",
    "        beta1 = (x2-x1)*(f6(x2)-f6(x3))\n",
    "        beta2 = (x2-x3)*(f6(x2)-f6(x1))\n",
    "        gamma = (alpha1 - alpha2)/(beta1 - beta2)\n",
    "        x4 = x2 - (0.5 * gamma)\n",
    "       \n",
    "        if(x4<2):\n",
    "            #[x1,x2,x3] = [x1,x4,x2]\n",
    "            x3 = x2\n",
    "            x2 = x4\n",
    "            xmax = x4\n",
    "        else:\n",
    "            #[x1,x2,x3] = [x2,x4,x3]\n",
    "            x1 = x2\n",
    "            x2 = x4\n",
    "            xmax = x4\n",
    "        #end if\n",
    "        ea = abs((xmax - prev_xmax)/xmax) * 100\n",
    "        print('Iteration #{}: [x1,x2,x3] = [{},{},{}] , xmax = {} , ea = {}'.format(i,x1,x2,x3,xmax,ea))\n",
    "        prev_xmax = xmax\n",
    "        i +=1\n",
    "    #end while\n",
    "#end function"
   ]
  },
  {
   "cell_type": "code",
   "execution_count": 29,
   "metadata": {},
   "outputs": [
    {
     "name": "stdout",
     "output_type": "stream",
     "text": [
      "Iteration #1: [x1,x2,x3] = [0,0.3252756735125888,0.5] , xmax = 0.3252756735125888 , ea = 53.71576810543412\n",
      "Iteration #2: [x1,x2,x3] = [0,0.9062836382289359,0.3252756735125888] , xmax = 0.9062836382289359 , ea = 64.10884409783188\n",
      "Iteration #3: [x1,x2,x3] = [0,0.5491125165091566,0.9062836382289359] , xmax = 0.5491125165091566 , ea = 65.04516123405891\n",
      "Iteration #4: [x1,x2,x3] = [0,0.5286165270507763,0.5491125165091566] , xmax = 0.5286165270507763 , ea = 3.877288811367702\n",
      "Iteration #5: [x1,x2,x3] = [0,0.6971990107349295,0.5286165270507763] , xmax = 0.6971990107349295 , ea = 24.179965990836312\n",
      "Iteration #6: [x1,x2,x3] = [0,0.6159931618041171,0.6971990107349295] , xmax = 0.6159931618041171 , ea = 13.182914026671527\n",
      "Iteration #7: [x1,x2,x3] = [0,0.5884717617037986,0.6159931618041171] , xmax = 0.5884717617037986 , ea = 4.676757984212535\n",
      "Iteration #8: [x1,x2,x3] = [0,0.6311894548847713,0.5884717617037986] , xmax = 0.6311894548847713 , ea = 6.767808436972572\n",
      "Iteration #9: [x1,x2,x3] = [0,0.6244100539655316,0.6311894548847713] , xmax = 0.6244100539655316 , ea = 1.0857289814897677\n",
      "Iteration #10: [x1,x2,x3] = [0,0.610322349353236,0.6244100539655316] , xmax = 0.610322349353236 , ea = 2.308240002553478\n",
      "Iteration #11: [x1,x2,x3] = [0,0.6185318265654487,0.610322349353236] , xmax = 0.6185318265654487 , ea = 1.327252189721233\n",
      "Iteration #12: [x1,x2,x3] = [0,0.620964932850451,0.6185318265654487] , xmax = 0.620964932850451 , ea = 0.3918266807488524\n",
      "Iteration #13: [x1,x2,x3] = [0,0.6166519384081557,0.620964932850451] , xmax = 0.6166519384081557 , ea = 0.6994212088960535\n",
      "Iteration #14: [x1,x2,x3] = [0,0.6174046650862229,0.6166519384081557] , xmax = 0.6174046650862229 , ea = 0.12191787989845027\n",
      "Iteration #15: [x1,x2,x3] = [0,0.6188496284324964,0.6174046650862229] , xmax = 0.6188496284324964 , ea = 0.23349183386171096\n",
      "Iteration #16: [x1,x2,x3] = [0,0.6179581852852064,0.6188496284324964] , xmax = 0.6179581852852064 , ea = 0.1442562245337881\n",
      "Iteration #17: [x1,x2,x3] = [0,0.6177348351331625,0.6179581852852064] , xmax = 0.6177348351331625 , ea = 0.03615631486861865\n",
      "Iteration #18: [x1,x2,x3] = [0,0.618185725655338,0.6177348351331625] , xmax = 0.618185725655338 , ea = 0.07293771167192806\n",
      "Iteration #19: [x1,x2,x3] = [0,0.6180935872094596,0.618185725655338] , xmax = 0.6180935872094596 , ea = 0.014906876205331872\n",
      "Iteration #20: [x1,x2,x3] = [0,0.6179485235921975,0.6180935872094596] , xmax = 0.6179485235921975 , ea = 0.02347503258342719\n",
      "Iteration #21: [x1,x2,x3] = [0,0.6180444478122538,0.6179485235921975] , xmax = 0.6180444478122538 , ea = 0.015520602182540734\n",
      "Iteration #22: [x1,x2,x3] = [0,0.6180643303240569,0.6180444478122538] , xmax = 0.6180643303240569 , ea = 0.0032169000584061254\n"
     ]
    }
   ],
   "source": [
    "x1= 0\n",
    "x2 = 0.5\n",
    "x3 = 2\n",
    "p = 4\n",
    "parabolic_max(f6,x1,x2,x3,p)"
   ]
  },
  {
   "cell_type": "code",
   "execution_count": null,
   "metadata": {},
   "outputs": [],
   "source": []
  },
  {
   "cell_type": "code",
   "execution_count": null,
   "metadata": {},
   "outputs": [],
   "source": []
  }
 ],
 "metadata": {
  "kernelspec": {
   "display_name": "Python 3",
   "language": "python",
   "name": "python3"
  },
  "language_info": {
   "codemirror_mode": {
    "name": "ipython",
    "version": 3
   },
   "file_extension": ".py",
   "mimetype": "text/x-python",
   "name": "python",
   "nbconvert_exporter": "python",
   "pygments_lexer": "ipython3",
   "version": "3.8.3"
  }
 },
 "nbformat": 4,
 "nbformat_minor": 4
}
