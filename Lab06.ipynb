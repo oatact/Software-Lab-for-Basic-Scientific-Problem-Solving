{
 "cells": [
  {
   "cell_type": "code",
   "execution_count": 313,
   "metadata": {},
   "outputs": [],
   "source": [
    "import numpy as np\n",
    "import math\n"
   ]
  },
  {
   "cell_type": "code",
   "execution_count": 314,
   "metadata": {},
   "outputs": [],
   "source": [
    "a = np.matrix([\n",
    "    [2,1,1],\n",
    "    [3,2,3],\n",
    "    [1,4,9]\n",
    "])\n",
    "\n",
    "b = np.matrix([\n",
    "    [10],\n",
    "    [18],\n",
    "    [16]\n",
    "])"
   ]
  },
  {
   "cell_type": "code",
   "execution_count": 315,
   "metadata": {},
   "outputs": [
    {
     "name": "stdout",
     "output_type": "stream",
     "text": [
      "[[2 1 1]\n",
      " [3 2 3]\n",
      " [1 4 9]]\n"
     ]
    }
   ],
   "source": [
    "print(a)"
   ]
  },
  {
   "cell_type": "code",
   "execution_count": 316,
   "metadata": {},
   "outputs": [
    {
     "name": "stdout",
     "output_type": "stream",
     "text": [
      "[[10]\n",
      " [18]\n",
      " [16]]\n"
     ]
    }
   ],
   "source": [
    "print(b)"
   ]
  },
  {
   "cell_type": "code",
   "execution_count": 317,
   "metadata": {},
   "outputs": [],
   "source": [
    "a = np.matrix([\n",
    "    [4,-2,1],\n",
    "    [1,1,1],\n",
    "    [9,3,1]\n",
    "])\n",
    "\n",
    "b = np.matrix([\n",
    "    [8],\n",
    "    [-13],\n",
    "    [3]\n",
    "])"
   ]
  },
  {
   "cell_type": "code",
   "execution_count": 318,
   "metadata": {},
   "outputs": [
    {
     "name": "stdout",
     "output_type": "stream",
     "text": [
      "[[ 4 -2  1]\n",
      " [ 1  1  1]\n",
      " [ 9  3  1]]\n"
     ]
    }
   ],
   "source": [
    "print(a)"
   ]
  },
  {
   "cell_type": "code",
   "execution_count": 319,
   "metadata": {},
   "outputs": [
    {
     "name": "stdout",
     "output_type": "stream",
     "text": [
      "[[  8]\n",
      " [-13]\n",
      " [  3]]\n"
     ]
    }
   ],
   "source": [
    "print(b)"
   ]
  },
  {
   "cell_type": "code",
   "execution_count": 320,
   "metadata": {},
   "outputs": [],
   "source": [
    "ab = np.append(a,b,axis=1)"
   ]
  },
  {
   "cell_type": "code",
   "execution_count": 321,
   "metadata": {},
   "outputs": [
    {
     "name": "stdout",
     "output_type": "stream",
     "text": [
      "[[  4  -2   1   8]\n",
      " [  1   1   1 -13]\n",
      " [  9   3   1   3]]\n"
     ]
    }
   ],
   "source": [
    "print(ab)"
   ]
  },
  {
   "cell_type": "code",
   "execution_count": 322,
   "metadata": {},
   "outputs": [
    {
     "data": {
      "text/plain": [
       "matrix([[  1,   1,   1, -13]])"
      ]
     },
     "execution_count": 322,
     "metadata": {},
     "output_type": "execute_result"
    }
   ],
   "source": [
    "ab[1,:]"
   ]
  },
  {
   "cell_type": "code",
   "execution_count": 323,
   "metadata": {},
   "outputs": [
    {
     "data": {
      "text/plain": [
       "matrix([[ 4, -2,  1,  8]])"
      ]
     },
     "execution_count": 323,
     "metadata": {},
     "output_type": "execute_result"
    }
   ],
   "source": [
    "ab[0,:]"
   ]
  },
  {
   "cell_type": "code",
   "execution_count": 324,
   "metadata": {},
   "outputs": [
    {
     "data": {
      "text/plain": [
       "matrix([[-2]])"
      ]
     },
     "execution_count": 324,
     "metadata": {},
     "output_type": "execute_result"
    }
   ],
   "source": [
    "ab[0,1:2]"
   ]
  },
  {
   "cell_type": "code",
   "execution_count": 325,
   "metadata": {},
   "outputs": [
    {
     "data": {
      "text/plain": [
       "matrix([[-2,  1]])"
      ]
     },
     "execution_count": 325,
     "metadata": {},
     "output_type": "execute_result"
    }
   ],
   "source": [
    "ab[0,1:3]"
   ]
  },
  {
   "cell_type": "code",
   "execution_count": 326,
   "metadata": {},
   "outputs": [
    {
     "data": {
      "text/plain": [
       "matrix([[ 4, -2,  1,  8]])"
      ]
     },
     "execution_count": 326,
     "metadata": {},
     "output_type": "execute_result"
    }
   ],
   "source": [
    "ab[0,:]"
   ]
  },
  {
   "cell_type": "code",
   "execution_count": 327,
   "metadata": {},
   "outputs": [
    {
     "data": {
      "text/plain": [
       "matrix([[  1,   1,   1, -13]])"
      ]
     },
     "execution_count": 327,
     "metadata": {},
     "output_type": "execute_result"
    }
   ],
   "source": [
    "ab[1,:]"
   ]
  },
  {
   "cell_type": "code",
   "execution_count": 328,
   "metadata": {},
   "outputs": [],
   "source": [
    "ab[1,:] = ab[0,:] - ab[1,:]"
   ]
  },
  {
   "cell_type": "code",
   "execution_count": 329,
   "metadata": {},
   "outputs": [
    {
     "data": {
      "text/plain": [
       "matrix([[ 4, -2,  1,  8],\n",
       "        [ 3, -3,  0, 21],\n",
       "        [ 9,  3,  1,  3]])"
      ]
     },
     "execution_count": 329,
     "metadata": {},
     "output_type": "execute_result"
    }
   ],
   "source": [
    "ab"
   ]
  },
  {
   "cell_type": "code",
   "execution_count": 330,
   "metadata": {},
   "outputs": [],
   "source": [
    "ab[1,:] = ab[1,:]/3"
   ]
  },
  {
   "cell_type": "code",
   "execution_count": 331,
   "metadata": {},
   "outputs": [
    {
     "data": {
      "text/plain": [
       "matrix([[ 4, -2,  1,  8],\n",
       "        [ 1, -1,  0,  7],\n",
       "        [ 9,  3,  1,  3]])"
      ]
     },
     "execution_count": 331,
     "metadata": {},
     "output_type": "execute_result"
    }
   ],
   "source": [
    "ab"
   ]
  },
  {
   "cell_type": "code",
   "execution_count": 332,
   "metadata": {},
   "outputs": [],
   "source": [
    "ab[2,:] = ab[2,:] - ab[0,:]"
   ]
  },
  {
   "cell_type": "code",
   "execution_count": 333,
   "metadata": {},
   "outputs": [
    {
     "data": {
      "text/plain": [
       "matrix([[ 4, -2,  1,  8],\n",
       "        [ 1, -1,  0,  7],\n",
       "        [ 5,  5,  0, -5]])"
      ]
     },
     "execution_count": 333,
     "metadata": {},
     "output_type": "execute_result"
    }
   ],
   "source": [
    "ab"
   ]
  },
  {
   "cell_type": "code",
   "execution_count": 334,
   "metadata": {},
   "outputs": [],
   "source": [
    "ab[2,:] = ab[2,:]/5"
   ]
  },
  {
   "cell_type": "code",
   "execution_count": 335,
   "metadata": {},
   "outputs": [
    {
     "data": {
      "text/plain": [
       "matrix([[ 4, -2,  1,  8],\n",
       "        [ 1, -1,  0,  7],\n",
       "        [ 1,  1,  0, -1]])"
      ]
     },
     "execution_count": 335,
     "metadata": {},
     "output_type": "execute_result"
    }
   ],
   "source": [
    "ab"
   ]
  },
  {
   "cell_type": "code",
   "execution_count": 336,
   "metadata": {},
   "outputs": [],
   "source": [
    "ab[2,:] = ab[2,:]+ab[1,:]"
   ]
  },
  {
   "cell_type": "code",
   "execution_count": 337,
   "metadata": {},
   "outputs": [
    {
     "data": {
      "text/plain": [
       "matrix([[ 4, -2,  1,  8],\n",
       "        [ 1, -1,  0,  7],\n",
       "        [ 2,  0,  0,  6]])"
      ]
     },
     "execution_count": 337,
     "metadata": {},
     "output_type": "execute_result"
    }
   ],
   "source": [
    "ab"
   ]
  },
  {
   "cell_type": "code",
   "execution_count": 338,
   "metadata": {},
   "outputs": [],
   "source": [
    "ab[2,:] = ab[2,:]/2"
   ]
  },
  {
   "cell_type": "code",
   "execution_count": 339,
   "metadata": {},
   "outputs": [
    {
     "data": {
      "text/plain": [
       "matrix([[ 4, -2,  1,  8],\n",
       "        [ 1, -1,  0,  7],\n",
       "        [ 1,  0,  0,  3]])"
      ]
     },
     "execution_count": 339,
     "metadata": {},
     "output_type": "execute_result"
    }
   ],
   "source": [
    "ab"
   ]
  },
  {
   "cell_type": "code",
   "execution_count": 340,
   "metadata": {},
   "outputs": [
    {
     "data": {
      "text/plain": [
       "matrix([[ 4, -2,  1,  8],\n",
       "        [ 0,  1,  0, -4],\n",
       "        [ 1,  0,  0,  3]])"
      ]
     },
     "execution_count": 340,
     "metadata": {},
     "output_type": "execute_result"
    }
   ],
   "source": [
    "ab[1,:] = ab[2,:]- ab[1,:]\n",
    "ab"
   ]
  },
  {
   "cell_type": "code",
   "execution_count": 341,
   "metadata": {},
   "outputs": [
    {
     "data": {
      "text/plain": [
       "matrix([[  0,   0,   1, -12],\n",
       "        [  0,   1,   0,  -4],\n",
       "        [  1,   0,   0,   3]])"
      ]
     },
     "execution_count": 341,
     "metadata": {},
     "output_type": "execute_result"
    }
   ],
   "source": [
    "ab[0,:] = ab[0,:] - 4*ab[2,:] + 2*ab[1,:]\n",
    "ab"
   ]
  },
  {
   "cell_type": "code",
   "execution_count": 342,
   "metadata": {},
   "outputs": [
    {
     "data": {
      "text/plain": [
       "matrix([[  0,   0,   1, -12],\n",
       "        [  0,   1,   0,  -4],\n",
       "        [  1,   0,   0,   3]])"
      ]
     },
     "execution_count": 342,
     "metadata": {},
     "output_type": "execute_result"
    }
   ],
   "source": [
    "ab = np.matrix([[  0,   0,   1, -12],\n",
    "        [  0,   1,   0,  -4],\n",
    "        [  1,   0,   0,   3]])\n",
    "ab"
   ]
  },
  {
   "cell_type": "code",
   "execution_count": 343,
   "metadata": {},
   "outputs": [
    {
     "data": {
      "text/plain": [
       "matrix([[  1,   0,   0,   3],\n",
       "        [  0,   1,   0,  -4],\n",
       "        [  0,   0,   1, -12]])"
      ]
     },
     "execution_count": 343,
     "metadata": {},
     "output_type": "execute_result"
    }
   ],
   "source": [
    "temp = ab[2,:].copy()\n",
    "ab[2,:] = ab[0,:]\n",
    "ab[0,:] = temp\n",
    "ab\n"
   ]
  },
  {
   "cell_type": "markdown",
   "metadata": {},
   "source": [
    "# Method2"
   ]
  },
  {
   "cell_type": "code",
   "execution_count": 344,
   "metadata": {},
   "outputs": [],
   "source": [
    "a = np.matrix([\n",
    "    [4,-2,1],\n",
    "    [1,1,1],\n",
    "    [9,3,1]\n",
    "])\n",
    "\n",
    "b = np.matrix([\n",
    "    [8],\n",
    "    [-13],\n",
    "    [3]\n",
    "])"
   ]
  },
  {
   "cell_type": "code",
   "execution_count": 345,
   "metadata": {},
   "outputs": [
    {
     "data": {
      "text/plain": [
       "matrix([[ 4, -2,  1],\n",
       "        [ 1,  1,  1],\n",
       "        [ 9,  3,  1]])"
      ]
     },
     "execution_count": 345,
     "metadata": {},
     "output_type": "execute_result"
    }
   ],
   "source": [
    "a"
   ]
  },
  {
   "cell_type": "code",
   "execution_count": 346,
   "metadata": {},
   "outputs": [
    {
     "data": {
      "text/plain": [
       "matrix([[  8],\n",
       "        [-13],\n",
       "        [  3]])"
      ]
     },
     "execution_count": 346,
     "metadata": {},
     "output_type": "execute_result"
    }
   ],
   "source": [
    "b"
   ]
  },
  {
   "cell_type": "code",
   "execution_count": 347,
   "metadata": {},
   "outputs": [],
   "source": [
    "# x = invverse(a) * b\n",
    "\n",
    "inv_a = np.linalg.inv(a)"
   ]
  },
  {
   "cell_type": "code",
   "execution_count": 348,
   "metadata": {},
   "outputs": [
    {
     "data": {
      "text/plain": [
       "matrix([[ 0.06666667, -0.16666667,  0.1       ],\n",
       "        [-0.26666667,  0.16666667,  0.1       ],\n",
       "        [ 0.2       ,  1.        , -0.2       ]])"
      ]
     },
     "execution_count": 348,
     "metadata": {},
     "output_type": "execute_result"
    }
   ],
   "source": [
    "inv_a"
   ]
  },
  {
   "cell_type": "code",
   "execution_count": 349,
   "metadata": {},
   "outputs": [
    {
     "name": "stdout",
     "output_type": "stream",
     "text": [
      "[[ 1.00000000e+00  0.00000000e+00 -5.55111512e-17]\n",
      " [ 2.77555756e-17  1.00000000e+00  0.00000000e+00]\n",
      " [-2.77555756e-17  0.00000000e+00  1.00000000e+00]]\n"
     ]
    }
   ],
   "source": [
    "t1 = np.dot(a,inv_a)\n",
    "print(t1)"
   ]
  },
  {
   "cell_type": "code",
   "execution_count": 350,
   "metadata": {},
   "outputs": [
    {
     "name": "stdout",
     "output_type": "stream",
     "text": [
      "[[ 1.00000000e+00 -1.38777878e-17  0.00000000e+00]\n",
      " [ 1.38777878e-16  1.00000000e+00  2.77555756e-17]\n",
      " [ 1.66533454e-16 -1.66533454e-16  1.00000000e+00]]\n"
     ]
    }
   ],
   "source": [
    "t2 = np.dot(inv_a,a)\n",
    "print(t2)"
   ]
  },
  {
   "cell_type": "code",
   "execution_count": 351,
   "metadata": {},
   "outputs": [
    {
     "data": {
      "text/plain": [
       "matrix([[  3.],\n",
       "        [ -4.],\n",
       "        [-12.]])"
      ]
     },
     "execution_count": 351,
     "metadata": {},
     "output_type": "execute_result"
    }
   ],
   "source": [
    "x = np.dot(inv_a,b)\n",
    "x"
   ]
  },
  {
   "cell_type": "markdown",
   "metadata": {},
   "source": [
    "# Method 4"
   ]
  },
  {
   "cell_type": "code",
   "execution_count": 352,
   "metadata": {},
   "outputs": [
    {
     "data": {
      "text/plain": [
       "matrix([[ 4, -2,  1],\n",
       "        [ 1,  1,  1],\n",
       "        [ 9,  3,  1]])"
      ]
     },
     "execution_count": 352,
     "metadata": {},
     "output_type": "execute_result"
    }
   ],
   "source": [
    "a"
   ]
  },
  {
   "cell_type": "code",
   "execution_count": null,
   "metadata": {},
   "outputs": [],
   "source": []
  },
  {
   "cell_type": "code",
   "execution_count": 353,
   "metadata": {},
   "outputs": [
    {
     "data": {
      "text/plain": [
       "matrix([[ 4, -2,  1],\n",
       "        [ 1,  1,  1],\n",
       "        [ 9,  3,  1]])"
      ]
     },
     "execution_count": 353,
     "metadata": {},
     "output_type": "execute_result"
    }
   ],
   "source": [
    "ax1 = a.copy()\n",
    "ax1"
   ]
  },
  {
   "cell_type": "code",
   "execution_count": 354,
   "metadata": {},
   "outputs": [
    {
     "data": {
      "text/plain": [
       "matrix([[  8,  -2,   1],\n",
       "        [-13,   1,   1],\n",
       "        [  3,   3,   1]])"
      ]
     },
     "execution_count": 354,
     "metadata": {},
     "output_type": "execute_result"
    }
   ],
   "source": [
    "ax1[:,0] = b\n",
    "ax1"
   ]
  },
  {
   "cell_type": "code",
   "execution_count": 355,
   "metadata": {},
   "outputs": [
    {
     "name": "stdout",
     "output_type": "stream",
     "text": [
      "2.9999999999999996\n"
     ]
    }
   ],
   "source": [
    "x1 = np.linalg.det(ax1)/np.linalg.det(a)\n",
    "print(x1)"
   ]
  },
  {
   "cell_type": "code",
   "execution_count": 356,
   "metadata": {},
   "outputs": [
    {
     "data": {
      "text/plain": [
       "-4.000000000000003"
      ]
     },
     "execution_count": 356,
     "metadata": {},
     "output_type": "execute_result"
    }
   ],
   "source": [
    "ax2 = a.copy()\n",
    "ax2[:,1] = b\n",
    "x2 = np.linalg.det(ax2)/np.linalg.det(a)\n",
    "x2"
   ]
  },
  {
   "cell_type": "code",
   "execution_count": 357,
   "metadata": {},
   "outputs": [
    {
     "data": {
      "text/plain": [
       "-4.000000000000003"
      ]
     },
     "execution_count": 357,
     "metadata": {},
     "output_type": "execute_result"
    }
   ],
   "source": [
    "ax3 = a.copy()\n",
    "ax3[:,1] = b\n",
    "x3 = np.linalg.det(ax3)/np.linalg.det(a)\n",
    "x3\n"
   ]
  },
  {
   "cell_type": "markdown",
   "metadata": {},
   "source": [
    "# Method 3"
   ]
  },
  {
   "cell_type": "code",
   "execution_count": 358,
   "metadata": {},
   "outputs": [],
   "source": [
    "a = np.matrix([\n",
    "    [4.0,-2.0,1.0],\n",
    "    [1.0,1.0,1.0],\n",
    "    [9.0,3.0,1.0]\n",
    "])\n",
    "\n",
    "b = np.matrix([\n",
    "    [8.0],\n",
    "    [-13.0],\n",
    "    [3.0]\n",
    "])"
   ]
  },
  {
   "cell_type": "code",
   "execution_count": 359,
   "metadata": {},
   "outputs": [],
   "source": [
    "ab = np.append(a,b,axis=1)"
   ]
  },
  {
   "cell_type": "code",
   "execution_count": 360,
   "metadata": {},
   "outputs": [
    {
     "data": {
      "text/plain": [
       "matrix([[  4.,  -2.,   1.,   8.],\n",
       "        [  1.,   1.,   1., -13.],\n",
       "        [  9.,   3.,   1.,   3.]])"
      ]
     },
     "execution_count": 360,
     "metadata": {},
     "output_type": "execute_result"
    }
   ],
   "source": [
    "ab"
   ]
  },
  {
   "cell_type": "code",
   "execution_count": 361,
   "metadata": {},
   "outputs": [],
   "source": [
    "def fwd_elim(ab):\n",
    "    abx = ab.copy()\n",
    "    [nr,nc] = ab.shape\n",
    "    \n",
    "    #Step1 : eliminate the front terms of row 2 to N\n",
    "    for r in range(1,nr):\n",
    "        row_factor = abx[r,0]/abx[0,0]\n",
    "        abx[r,:] = ab[r,:] - (abx[0,:]* row_factor)\n",
    "    #end for\n",
    "    \n",
    "    #Step2 : eliminate the 2nd terms off row  2 to N\n",
    "    for r in range(2,nr):\n",
    "        row_factor = abx[r,1]/abx[1,1]\n",
    "        abx[r,:] = abx[r,:] - (abx[1,:]*row_factor)\n",
    "        \n",
    "    print(abx)\n",
    "    return abx\n",
    "#end function"
   ]
  },
  {
   "cell_type": "code",
   "execution_count": 362,
   "metadata": {},
   "outputs": [
    {
     "name": "stdout",
     "output_type": "stream",
     "text": [
      "[[  4.    -2.     1.     8.  ]\n",
      " [  0.     1.5    0.75 -15.  ]\n",
      " [  0.     0.    -5.    60.  ]]\n"
     ]
    },
    {
     "data": {
      "text/plain": [
       "matrix([[  4.  ,  -2.  ,   1.  ,   8.  ],\n",
       "        [  0.  ,   1.5 ,   0.75, -15.  ],\n",
       "        [  0.  ,   0.  ,  -5.  ,  60.  ]])"
      ]
     },
     "execution_count": 362,
     "metadata": {},
     "output_type": "execute_result"
    }
   ],
   "source": [
    "fwd_elim(ab)"
   ]
  },
  {
   "cell_type": "code",
   "execution_count": 363,
   "metadata": {},
   "outputs": [],
   "source": [
    "def back_sub_v1(ab_re):\n",
    "    abx = ab_re.copy()\n",
    "    [nr,nc] = abx.shape\n",
    "    \n",
    "    x= np.zeros(3)\n",
    "    \n",
    "    #step 1:find x[2]:\n",
    "    x[2] = abx[nr-1 , nc-1]/abx[nr-1,nc-2]\n",
    "    print(x[2])\n",
    "    \n",
    "#end function"
   ]
  },
  {
   "cell_type": "code",
   "execution_count": 364,
   "metadata": {},
   "outputs": [
    {
     "data": {
      "text/plain": [
       "matrix([[  4.,  -2.,   1.,   8.],\n",
       "        [  1.,   1.,   1., -13.],\n",
       "        [  9.,   3.,   1.,   3.]])"
      ]
     },
     "execution_count": 364,
     "metadata": {},
     "output_type": "execute_result"
    }
   ],
   "source": [
    "ab"
   ]
  },
  {
   "cell_type": "code",
   "execution_count": 365,
   "metadata": {},
   "outputs": [
    {
     "name": "stdout",
     "output_type": "stream",
     "text": [
      "[[  4.    -2.     1.     8.  ]\n",
      " [  0.     1.5    0.75 -15.  ]\n",
      " [  0.     0.    -5.    60.  ]]\n"
     ]
    }
   ],
   "source": [
    "ab_re = fwd_elim(ab)"
   ]
  },
  {
   "cell_type": "code",
   "execution_count": 366,
   "metadata": {},
   "outputs": [
    {
     "data": {
      "text/plain": [
       "matrix([[  4.  ,  -2.  ,   1.  ,   8.  ],\n",
       "        [  0.  ,   1.5 ,   0.75, -15.  ],\n",
       "        [  0.  ,   0.  ,  -5.  ,  60.  ]])"
      ]
     },
     "execution_count": 366,
     "metadata": {},
     "output_type": "execute_result"
    }
   ],
   "source": [
    "ab_re"
   ]
  },
  {
   "cell_type": "code",
   "execution_count": 367,
   "metadata": {},
   "outputs": [
    {
     "name": "stdout",
     "output_type": "stream",
     "text": [
      "-12.0\n"
     ]
    }
   ],
   "source": [
    "back_sub_v1(ab_re)"
   ]
  },
  {
   "cell_type": "code",
   "execution_count": 368,
   "metadata": {},
   "outputs": [],
   "source": [
    "def back_sub_v2(ab_re):\n",
    "    abx = ab_re.copy()\n",
    "    [nr,nc] = abx.shape\n",
    "    \n",
    "    x= np.zeros(3)\n",
    "    \n",
    "    #step 1:find x[2]:\n",
    "    x[2] = abx[nr-1 , nc-1]/abx[nr-1,nc-2]\n",
    "    print(x[2])\n",
    "    \n",
    "    #step 2: find x[1]:\n",
    "    x[1] = abx[nr-2, nc-1] - abx[nr-2,nc-2]*x[2]/abx[nr-2 , nc-3]\n",
    "    print(x[1])\n",
    "    \n",
    "#end function"
   ]
  },
  {
   "cell_type": "code",
   "execution_count": 369,
   "metadata": {},
   "outputs": [],
   "source": [
    "def back_sub_v3(ab_re):\n",
    "    abx = ab_re.copy()\n",
    "    [nr,nc] = abx.shape\n",
    "    \n",
    "    x= np.zeros(3)\n",
    "    \n",
    "    #step 1:find x[2]:\n",
    "    x[2] = abx[nr-1 , nc-1]/abx[nr-1,nc-2]\n",
    "    print(x[2])\n",
    "    \n",
    "    #step 2: find x[1]:\n",
    "    x[1] = abx[nr-2, nc-1] - abx[nr-2,nc-2]*x[2]/abx[nr-2 , nc-3]\n",
    "    print(x[1])\n",
    "    \n",
    "    #step 3 : fix x[0]:\n",
    "    x[0] = abx[nr-3,nc-1]  - abx[nr-3,nc-2]*x[2]/abx[nr-3,nc-3]*x[1]/abx[nr-3,nc-4]\n",
    "    print(x[0])\n",
    "#end function"
   ]
  },
  {
   "cell_type": "code",
   "execution_count": 370,
   "metadata": {},
   "outputs": [
    {
     "name": "stdout",
     "output_type": "stream",
     "text": [
      "-12.0\n",
      "-9.0\n",
      "21.5\n"
     ]
    }
   ],
   "source": [
    "back_sub_v3(ab_re)"
   ]
  }
 ],
 "metadata": {
  "kernelspec": {
   "display_name": "Python 3",
   "language": "python",
   "name": "python3"
  },
  "language_info": {
   "codemirror_mode": {
    "name": "ipython",
    "version": 3
   },
   "file_extension": ".py",
   "mimetype": "text/x-python",
   "name": "python",
   "nbconvert_exporter": "python",
   "pygments_lexer": "ipython3",
   "version": "3.8.3"
  }
 },
 "nbformat": 4,
 "nbformat_minor": 4
}
