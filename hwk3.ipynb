{
 "cells": [
  {
   "cell_type": "code",
   "execution_count": 1,
   "metadata": {},
   "outputs": [],
   "source": [
    "import numpy as np\n",
    "import math\n",
    "def f(x):\n",
    "    return x**3 - 6*x**2 + 4*x + 12\n",
    "#THIS IS FUNCTION AJ GIVE ME"
   ]
  },
  {
   "cell_type": "markdown",
   "metadata": {},
   "source": [
    "## TASK1"
   ]
  },
  {
   "cell_type": "code",
   "execution_count": 2,
   "metadata": {},
   "outputs": [],
   "source": [
    "# task3.1 \n",
    "# find root xr 4 significant \n",
    "def interval_search(f,L,U,N,p):\n",
    "    #stopping criterion \n",
    "    es = 0.5*(10**(2-p))\n",
    "    # divide the interval from L to U into N ticks\n",
    "    # N ticks mean (N-1) number of intervals\n",
    "    ea = 100\n",
    "    prev_xr = U\n",
    "    \n",
    "    while (ea > es): \n",
    "            x = np.linspace(L,U,N)\n",
    "            for k in range(0,N-1):       \n",
    "                if(f(x[k]) * f(x[k+1]) <0 ):\n",
    "                    L= x[k]\n",
    "                    U = x[k+1]\n",
    "                    xr = (x[k]+x[k+1])/2\n",
    "                    print('There is a root inside [{},{}]. The estimated root at {}'.format(x[k],x[k+1],xr))\n",
    "                else:\n",
    "                        pass\n",
    "                #end if\n",
    "           #end for\n",
    "            ea = abs((xr-prev_xr)/xr)*100\n",
    "            prev_xr = xr\n",
    "            print('ea = {}'.format(ea))\n",
    "    #end while\n",
    "#end function"
   ]
  },
  {
   "cell_type": "code",
   "execution_count": 3,
   "metadata": {},
   "outputs": [
    {
     "name": "stdout",
     "output_type": "stream",
     "text": [
      "This is interval search\n",
      "There is a root inside [-1.125,-1.0]. The estimated root at -1.0625\n",
      "ea = 5.88235294117647\n",
      "There is a root inside [-1.0625,-1.046875]. The estimated root at -1.0546875\n",
      "ea = 0.7407407407407408\n",
      "There is a root inside [-1.052734375,-1.05078125]. The estimated root at -1.0517578125\n",
      "ea = 0.2785515320334262\n",
      "There is a root inside [-1.051513671875,-1.05126953125]. The estimated root at -1.0513916015625\n",
      "ea = 0.034831069313827935\n",
      "There is a root inside [-1.0513916015625,-1.051361083984375]. The estimated root at -1.0513763427734375\n",
      "ea = 0.0014513156176073612\n"
     ]
    }
   ],
   "source": [
    "print('This is interval search')\n",
    "L = -2\n",
    "U = -1\n",
    "N = 9\n",
    "p = 4\n",
    "interval_search(f,L,U,N,p)"
   ]
  },
  {
   "cell_type": "markdown",
   "metadata": {},
   "source": [
    "# Task2\n"
   ]
  },
  {
   "cell_type": "code",
   "execution_count": 4,
   "metadata": {},
   "outputs": [],
   "source": [
    "def bisection(f,xl,xu,p):\n",
    "    #stopping criterion \n",
    "    es = 0.5*(10**(2-p))\n",
    "    # divide the interval from L to U into N ticks\n",
    "    # N ticks mean (N-1) number of intervals\n",
    "    ea = 100\n",
    "    prev_xr = xu\n",
    "    i = 1\n",
    "    while(ea > es):\n",
    "        xm = (xl + xu)/2\n",
    "        if (f(xl) * f(xm) >0):\n",
    "            xl = xm\n",
    "            #xu = xu\n",
    "        else:\n",
    "            #xl = xl\n",
    "            xu = xm\n",
    "        #end if\n",
    "            xr = (xl+xu)/2\n",
    "            ea = abs((xr-prev_xr)/xr)*100\n",
    "            prev_xr = xr\n",
    "            print('Iteration #{} ,new interval = [{}.{}], xr  = {}, ea = {}'.format(i,xl,xu,xr,ea))\n",
    "            i += 1\n",
    "    #end while\n",
    "#end function"
   ]
  },
  {
   "cell_type": "code",
   "execution_count": 5,
   "metadata": {},
   "outputs": [
    {
     "name": "stdout",
     "output_type": "stream",
     "text": [
      "Iteration #1 ,new interval = [-1.0625.-1.03125], xr  = -1.046875, ea = 4.477611940298507\n",
      "Iteration #2 ,new interval = [-1.0625.-1.046875], xr  = -1.0546875, ea = 0.7407407407407408\n",
      "Iteration #3 ,new interval = [-1.0546875.-1.05078125], xr  = -1.052734375, ea = 0.1855287569573284\n",
      "Iteration #4 ,new interval = [-1.0517578125.-1.05126953125], xr  = -1.051513671875, ea = 0.11609008590666356\n",
      "Iteration #5 ,new interval = [-1.0513916015625.-1.05133056640625], xr  = -1.051361083984375, ea = 0.014513366810832776\n",
      "Iteration #6 ,new interval = [-1.0513916015625.-1.051361083984375], xr  = -1.0513763427734375, ea = 0.0014513156176073612\n"
     ]
    }
   ],
   "source": [
    "xl = -2\n",
    "xu = -1\n",
    "p = 4\n",
    "bisection(f,xl,xu,p)"
   ]
  },
  {
   "cell_type": "markdown",
   "metadata": {},
   "source": [
    "# TASK3"
   ]
  },
  {
   "cell_type": "code",
   "execution_count": 6,
   "metadata": {},
   "outputs": [],
   "source": [
    "def falseposition(f,xl,xu,p):\n",
    "    #stopping criterion \n",
    "    es = 0.5*(10**(2-p))\n",
    "    # divide the interval from L to U into N ticks\n",
    "    # N ticks mean (N-1) number of intervals\n",
    "    ea = 100\n",
    "    prev_xr = xu\n",
    "    i = 1\n",
    "    while(ea > es):\n",
    "       # xm = (xl + xu)/2\n",
    "        xr = xu- f(xu)*(xu-xl)/(f(xu)-f(xl))\n",
    "        if (f(xl) * f(xr) >0):\n",
    "            xl = xr\n",
    "            #xu = xu\n",
    "        else:\n",
    "            #xl = xl\n",
    "            xu = xr\n",
    "        #end if\n",
    "            #xr = xu- f(xu)*(xu-xl)/(f(xu)-f(xl))\n",
    "            ea = abs((xr-prev_xr)/xr)*100\n",
    "            prev_xr = xr\n",
    "            print('Iteration #{} ,new interval = [{}.{}], xr  = {}, ea = {}'.format(i,xl,xu,xr,ea))\n",
    "            i += 1\n",
    "    #end while\n",
    "#end function"
   ]
  },
  {
   "cell_type": "code",
   "execution_count": null,
   "metadata": {},
   "outputs": [],
   "source": [
    "xl = 0.5\n",
    "xu = 1\n",
    "p = 4\n",
    "falseposition(f,xl,xu,p)"
   ]
  },
  {
   "cell_type": "code",
   "execution_count": null,
   "metadata": {},
   "outputs": [],
   "source": []
  }
 ],
 "metadata": {
  "kernelspec": {
   "display_name": "Python 3",
   "language": "python",
   "name": "python3"
  },
  "language_info": {
   "codemirror_mode": {
    "name": "ipython",
    "version": 3
   },
   "file_extension": ".py",
   "mimetype": "text/x-python",
   "name": "python",
   "nbconvert_exporter": "python",
   "pygments_lexer": "ipython3",
   "version": "3.8.3"
  }
 },
 "nbformat": 4,
 "nbformat_minor": 4
}
