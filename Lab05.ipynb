{
 "cells": [
  {
   "cell_type": "code",
   "execution_count": 5,
   "metadata": {},
   "outputs": [],
   "source": [
    "import numpy as np\n",
    "import math"
   ]
  },
  {
   "cell_type": "code",
   "execution_count": 6,
   "metadata": {},
   "outputs": [],
   "source": [
    "def f(x):\n",
    "    return (-1)*(x**2)*(3*x)+2\n",
    "#end fuunction"
   ]
  },
  {
   "cell_type": "code",
   "execution_count": 7,
   "metadata": {},
   "outputs": [],
   "source": [
    "def interval_search_max(f,a,b,p):\n",
    "    es = 0.5*(10**(2-p))\n",
    "    ea = 100\n",
    "    prev_xmax = b\n",
    "    \n",
    "    i=1\n",
    "    while(ea>es):\n",
    "        epsilon = (a+b)/10\n",
    "        xmid  = (a+b)/2\n",
    "        alpha = xmid-(epsilon/2)\n",
    "        beta = xmid+(epsilon/2)\n",
    "        if (f(beta) > f(alpha)):\n",
    "            #[a,b] = [aplha,b]\n",
    "            a = alpha\n",
    "            #b=b\n",
    "            xmax = (a+b)/2\n",
    "        else:\n",
    "            #[a,b] = [a,beta]\n",
    "            #a=a\n",
    "            b=beta\n",
    "            xmax = (a+b)/2\n",
    "        #end if\n",
    "        ea = abs((xmax-prev_xmax)/xmax) * 100\n",
    "        print('Iteration #{}: [a,b] = [{},{}] , xmax = {} , ea = {}'.format(i,a,b,xmax,ea))\n",
    "        prev_xmax = xmax\n",
    "        i= i+1\n",
    "    #end while\n",
    "#end function"
   ]
  },
  {
   "cell_type": "code",
   "execution_count": 8,
   "metadata": {},
   "outputs": [
    {
     "name": "stdout",
     "output_type": "stream",
     "text": [
      "Iteration #1: [a,b] = [0.5,1.925] , xmax = 1.2125 , ea = 147.42268041237114\n",
      "Iteration #2: [a,b] = [0.5,1.33375] , xmax = 0.916875 , ea = 32.242672119972724\n",
      "Iteration #3: [a,b] = [0.5,1.0085625] , xmax = 0.75428125 , ea = 21.5561171645192\n",
      "Iteration #4: [a,b] = [0.5,0.829709375] , xmax = 0.6648546875 , ea = 13.450542529265094\n",
      "Iteration #5: [a,b] = [0.5,0.7313401562499999] , xmax = 0.615670078125 , ea = 7.988793206385781\n",
      "Iteration #6: [a,b] = [0.5,0.6772370859375] , xmax = 0.58861854296875 , ea = 4.595766728620728\n",
      "Iteration #7: [a,b] = [0.5,0.647480397265625] , xmax = 0.5737401986328126 , ea = 2.5932197833429944\n",
      "Iteration #8: [a,b] = [0.5,0.6311142184960938] , xmax = 0.5655571092480469 , ea = 1.4469077040947655\n",
      "Iteration #9: [a,b] = [0.5,0.6221128201728516] , xmax = 0.5610564100864258 , ea = 0.8021830034751425\n",
      "Iteration #10: [a,b] = [0.5,0.6171620510950684] , xmax = 0.5585810255475342 , ea = 0.44315585844778616\n",
      "Iteration #11: [a,b] = [0.5,0.6144391281022876] , xmax = 0.5572195640511438 , ea = 0.24433124466990558\n",
      "Iteration #12: [a,b] = [0.5,0.6129415204562582] , xmax = 0.5564707602281291 , ea = 0.13456301328531603\n",
      "Iteration #13: [a,b] = [0.5,0.6121178362509421] , xmax = 0.556058918125471 , ea = 0.07406447216896724\n",
      "Iteration #14: [a,b] = [0.5,0.6116648099380182] , xmax = 0.5558324049690091 , ea = 0.040752060231998836\n",
      "Iteration #15: [a,b] = [0.5,0.61141564546591] , xmax = 0.555707822732955 , ea = 0.022418657963344395\n",
      "Iteration #16: [a,b] = [0.5,0.6112786050062505] , xmax = 0.5556393025031252 , ea = 0.012331782420926352\n",
      "Iteration #17: [a,b] = [0.5,0.6112032327534377] , xmax = 0.5556016163767188 , ea = 0.006782940383108875\n",
      "Iteration #18: [a,b] = [0.5,0.6111617780143906] , xmax = 0.5555808890071954 , ea = 0.003730756390927909\n"
     ]
    }
   ],
   "source": [
    "a = 0.5\n",
    "b = 3.0\n",
    "p = 4\n",
    "interval_search_max(f,a,b,p )"
   ]
  },
  {
   "cell_type": "code",
   "execution_count": 33,
   "metadata": {},
   "outputs": [],
   "source": [
    "def golden_min(f,xl,xu,p):\n",
    "    es  = 0.5 * (10**(2-p))\n",
    "    ea = 100\n",
    "    #prev_xmin = xu\n",
    "    i=1\n",
    "    phi = (1+math.sqrt(5))/2\n",
    "    \n",
    "    while (ea>es):\n",
    "        d = (phi-1)*(xu - xl)\n",
    "        x1 = xl + d\n",
    "        x2 = xu - d\n",
    "        if(f(x1)>f(x2)):\n",
    "            #[xl,xu] = [xl,x1]\n",
    "            xu = x1\n",
    "            xmin = x2\n",
    "        else:\n",
    "            #[xl,xu] = [x2,xl]\n",
    "            #xu=xu\n",
    "            xl = x2\n",
    "            xmin = x1\n",
    "        #end if\n",
    "        ea = (2 - phi)*abs((xu-xl)/xmin)*100\n",
    "        print('Iteration #{}: [xl,xu] = [{},{}] , xmin = {} , ea = {}'.format(i,xl,xu,xmin,ea))\n",
    "        i +=1\n",
    "    #end while\n",
    "#end function"
   ]
  },
  {
   "cell_type": "code",
   "execution_count": 34,
   "metadata": {},
   "outputs": [],
   "source": [
    "def f(x):\n",
    "    return np.e**(x-3) - ((x**2) + x)"
   ]
  },
  {
   "cell_type": "code",
   "execution_count": 35,
   "metadata": {},
   "outputs": [
    {
     "name": "stdout",
     "output_type": "stream",
     "text": [
      "Iteration #1: [xl,xu] = [0.7639320225002102,2] , xmin = 1.2360679774997898 , ea = 38.19660112501051\n",
      "Iteration #2: [xl,xu] = [1.2360679774997896,2] , xmin = 1.5278640450004206 , ea = 19.098300562505262\n",
      "Iteration #3: [xl,xu] = [1.5278640450004204,2] , xmin = 1.708203932499369 , ea = 10.557280900008417\n",
      "Iteration #4: [xl,xu] = [1.708203932499369,2] , xmin = 1.8196601125010514 , ea = 6.1251098068248755\n",
      "Iteration #5: [xl,xu] = [1.8196601125010514,2] , xmin = 1.8885438199983176 , ea = 3.6474508437578876\n",
      "Iteration #6: [xl,xu] = [1.8885438199983176,2] , xmin = 1.9311162925027339 , ea = 2.2045525000072517\n",
      "Iteration #7: [xl,xu] = [1.9311162925027339,2] , xmin = 1.9574275274955837 , ea = 1.3441741583410458\n",
      "Iteration #8: [xl,xu] = [1.9574275274955837,2] , xmin = 1.9736887650071502 , ea = 0.8239007993495753\n",
      "Iteration #9: [xl,xu] = [1.9736887650071504,2] , xmin = 1.9837387624884333 , ea = 0.5066190000076458\n",
      "Iteration #10: [xl,xu] = [1.9837387624884333,2] , xmin = 1.9899500025187171 , ea = 0.3121304566658479\n",
      "Iteration #11: [xl,xu] = [1.989950002518717,2] , xmin = 1.9937887599697164 , ea = 0.1925358156326258\n",
      "Iteration #12: [xl,xu] = [1.9937887599697162,2] , xmin = 1.9961612425490007 , ea = 0.11885225144713035\n",
      "Iteration #13: [xl,xu] = [1.9961612425490007,2] , xmin = 1.9976275174207154 , ea = 0.07340081466278686\n",
      "Iteration #14: [xl,xu] = [1.9976275174207156,2] , xmin = 1.998533725128285 , ea = 0.04534362849000389\n",
      "Iteration #15: [xl,xu] = [1.9985337251282853,2] , xmin = 1.9990937922924303 , ea = 0.02801605238856108\n",
      "Iteration #16: [xl,xu] = [1.9990937922924303,2] , xmin = 1.999439932835855 , ea = 0.017311875077614645\n",
      "Iteration #17: [xl,xu] = [1.9994399328358547,2] , xmin = 1.9996538594565756 , ea = 0.010698182573400763\n",
      "Iteration #18: [xl,xu] = [1.9996538594565754,2] , xmin = 1.9997860733792794 , ea = 0.006611403312777013\n",
      "Iteration #19: [xl,xu] = [1.9997860733792792,2] , xmin = 1.9998677860772962 , ea = 0.004085905007612073\n"
     ]
    }
   ],
   "source": [
    "xl = 0\n",
    "xu = 2\n",
    "p = 4\n",
    "golden_min(f,xl,xu,p)"
   ]
  },
  {
   "cell_type": "code",
   "execution_count": 30,
   "metadata": {},
   "outputs": [],
   "source": [
    "def parabolic_max(f,x1,x2,x3,p):\n",
    "    es = 0.5*(10**(2-p))\n",
    "    ea = 100\n",
    "    prev_xmax = x2\n",
    "    i = 1\n",
    "    while(ea>es):\n",
    "        alpha1 = (x2-x1)*(x2-x1)*(f(x2)-f(x3))\n",
    "        alpha2 = (x2-x3)*(x2-x3)*(f(x2)-f(x1))\n",
    "        beta1 = (x2-x1)*(f(x2)-f(x3))\n",
    "        beta2 = (x2-x3)*(f(x2)-f(x1))\n",
    "        gamma = (alpha1 - alpha2)/(beta1 - beta2)\n",
    "        x4 = x2 - (0.5 * gamma)\n",
    "       \n",
    "        if(x4<x2):\n",
    "            #[x1,x2,x3] = [x1,x4,x2]\n",
    "            x3 = x2\n",
    "            x2 = x4\n",
    "            xmax = x4\n",
    "        else:\n",
    "            #[x1,x2,x3] = [x2,x4,x3]\n",
    "            x1 = x2\n",
    "            x2 = x4\n",
    "            xmax = x4\n",
    "        #end if\n",
    "        ea = abs((xmax - prev_xmax)/xmax) * 100\n",
    "        print('Iteration #{}: [x1,x2,x3] = [{},{},{}] , xmax = {} , ea = {}'.format(i,x1,x2,x3,xmax,ea))\n",
    "        prev_xmax = xmax\n",
    "        i +=1\n",
    "    #end while\n",
    "#end function"
   ]
  },
  {
   "cell_type": "code",
   "execution_count": 31,
   "metadata": {},
   "outputs": [],
   "source": [
    "def f(x):\n",
    "    return np.e**(x-3) - ((x**2) + x)\n",
    "#end function"
   ]
  },
  {
   "cell_type": "code",
   "execution_count": 32,
   "metadata": {},
   "outputs": [
    {
     "name": "stdout",
     "output_type": "stream",
     "text": [
      "Iteration #1: [x1,x2,x3] = [0,-0.5159303149832899,0.5] , xmax = -0.5159303149832899 , ea = 196.91231266691398\n",
      "Iteration #2: [x1,x2,x3] = [-0.5159303149832899,-0.48632989461507675,0.5] , xmax = -0.48632989461507675 , ea = 6.086489992896993\n",
      "Iteration #3: [x1,x2,x3] = [-0.48632989461507675,-0.48455861278479284,0.5] , xmax = -0.48455861278479284 , ea = 0.3655454228961545\n",
      "Iteration #4: [x1,x2,x3] = [-0.48632989461507675,-0.484662826224352,-0.48455861278479284] , xmax = -0.484662826224352 , ea = 0.021502255572390494\n",
      "Iteration #5: [x1,x2,x3] = [-0.48632989461507675,-0.4846680314133065,-0.484662826224352] , xmax = -0.4846680314133065 , ea = 0.0010739699375979742\n"
     ]
    }
   ],
   "source": [
    "x1= 0\n",
    "x2 = 0.5\n",
    "x3 = 2\n",
    "p = 4\n",
    "parabolic_max(f,x1,x2,x3,p)"
   ]
  },
  {
   "cell_type": "code",
   "execution_count": 86,
   "metadata": {},
   "outputs": [],
   "source": [
    "def parabolic(f,x1,x2,x3,p):\n",
    "    es = 0.5*(10**(2-p))\n",
    "    ea = 100\n",
    "    prev_xopt = x2\n",
    "    i = 1\n",
    "    while(ea>es):\n",
    "        alpha1 = (x2-x1)*(x2-x1)*(f(x2)-f(x3))\n",
    "        alpha2 = (x2-x3)*(x2-x3)*(f(x2)-f(x1))\n",
    "        beta1 = (x2-x1)*(f(x2)-f(x3))\n",
    "        beta2 = (x2-x3)*(f(x2)-f(x1))\n",
    "        gamma = (alpha1 - alpha2)/(beta1 - beta2)\n",
    "        x4 = x2 - (0.5 * gamma)\n",
    "       \n",
    "        if(x4<x2):\n",
    "            #[x1,x2,x3] = [x1,x4,x2]\n",
    "            x3 = x2\n",
    "            x2 = x4\n",
    "            xopt = x4\n",
    "        else:\n",
    "            #[x1,x2,x3] = [x2,x4,x3]\n",
    "            x1 = x2\n",
    "            x2 = x4\n",
    "            xopt = x4\n",
    "        #end if\n",
    "        ea = abs((xopt - prev_xopt)/xopt) * 100\n",
    "        print('Iteration #{}: [x1,x2,x3] = [{},{},{}] , xopt = {} , ea = {}'.format(i,x1,x2,x3,xopt,ea))\n",
    "        prev_xopt = xopt\n",
    "        i +=1\n",
    "    #end while\n",
    "#end function"
   ]
  },
  {
   "cell_type": "code",
   "execution_count": 87,
   "metadata": {},
   "outputs": [],
   "source": [
    "def f(x):\n",
    "    return ((x**2)/10) - (2*math.sin(x))\n",
    "#end function"
   ]
  },
  {
   "cell_type": "code",
   "execution_count": 88,
   "metadata": {},
   "outputs": [
    {
     "name": "stdout",
     "output_type": "stream",
     "text": [
      "Iteration #1: [x1,x2,x3] = [-4.8,-4.253955002907561,-3.8] , xopt = -4.253955002907561 , ea = 12.836172378862013\n",
      "Iteration #2: [x1,x2,x3] = [-4.253955002907561,-4.253891858531025,-3.8] , xopt = -4.253891858531025 , ea = 0.0014843907328980683\n"
     ]
    }
   ],
   "source": [
    "x1= -6\n",
    "x2 = -4.8\n",
    "x3 = -3.8\n",
    "p = 4\n",
    "parabolic(f,x1,x2,x3,p)"
   ]
  },
  {
   "cell_type": "code",
   "execution_count": 89,
   "metadata": {},
   "outputs": [
    {
     "name": "stdout",
     "output_type": "stream",
     "text": [
      "Iteration #1: [x1,x2,x3] = [-4.0,-2.0254708475604257,-1.1] , xopt = -2.0254708475604257 , ea = 45.6916399796673\n",
      "Iteration #2: [x1,x2,x3] = [-2.0254708475604257,-1.9020412388754675,-1.1] , xopt = -1.9020412388754675 , ea = 6.489323478492652\n",
      "Iteration #3: [x1,x2,x3] = [-1.9020412388754675,-1.7505085990123115,-1.1] , xopt = -1.7505085990123115 , ea = 8.656492173112158\n",
      "Iteration #4: [x1,x2,x3] = [-1.7505085990123115,-1.7473485896597645,-1.1] , xopt = -1.7473485896597645 , ea = 0.18084596120355773\n",
      "Iteration #5: [x1,x2,x3] = [-1.7473485896597645,-1.7463388647149125,-1.1] , xopt = -1.7463388647149125 , ea = 0.05781953120632177\n",
      "Iteration #6: [x1,x2,x3] = [-1.7463388647149125,-1.7463310769688711,-1.1] , xopt = -1.7463310769688711 , ea = 0.00044594900383345136\n"
     ]
    }
   ],
   "source": [
    "x1 = -4.0\n",
    "x2 = -1.1\n",
    "x3 = -0.1\n",
    "p = 4\n",
    "parabolic(f,x1,x2,x3,p)"
   ]
  },
  {
   "cell_type": "code",
   "execution_count": null,
   "metadata": {},
   "outputs": [],
   "source": []
  }
 ],
 "metadata": {
  "kernelspec": {
   "display_name": "Python 3",
   "language": "python",
   "name": "python3"
  },
  "language_info": {
   "codemirror_mode": {
    "name": "ipython",
    "version": 3
   },
   "file_extension": ".py",
   "mimetype": "text/x-python",
   "name": "python",
   "nbconvert_exporter": "python",
   "pygments_lexer": "ipython3",
   "version": "3.8.3"
  }
 },
 "nbformat": 4,
 "nbformat_minor": 4
}
